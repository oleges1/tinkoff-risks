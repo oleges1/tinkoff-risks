{
 "cells": [
  {
   "cell_type": "markdown",
   "metadata": {},
   "source": [
    "# Загрузка данных"
   ]
  },
  {
   "cell_type": "markdown",
   "metadata": {},
   "source": [
    "Мы будем использовать [выборку Bank Marketing](https://quiltdata.com/package/uciml/bank).\n",
    "Объектом в выборке является клиент банка, которому совершался звонок с предложением депозитного продукта.\n",
    "Целевая переменная – согласие на продукт.\n",
    "\n",
    "Для загрузки данных воспользуемся библиотекой [quilt](https://quiltdata.com).\n",
    "\n",
    "```bash\n",
    "pip install quilt\n",
    "```"
   ]
  },
  {
   "cell_type": "code",
   "execution_count": 1,
   "metadata": {},
   "outputs": [
    {
     "data": {
      "text/html": [
       "<div>\n",
       "<style scoped>\n",
       "    .dataframe tbody tr th:only-of-type {\n",
       "        vertical-align: middle;\n",
       "    }\n",
       "\n",
       "    .dataframe tbody tr th {\n",
       "        vertical-align: top;\n",
       "    }\n",
       "\n",
       "    .dataframe thead th {\n",
       "        text-align: right;\n",
       "    }\n",
       "</style>\n",
       "<table border=\"1\" class=\"dataframe\">\n",
       "  <thead>\n",
       "    <tr style=\"text-align: right;\">\n",
       "      <th></th>\n",
       "      <th>age</th>\n",
       "      <th>job</th>\n",
       "      <th>marital</th>\n",
       "      <th>education</th>\n",
       "      <th>default</th>\n",
       "      <th>balance</th>\n",
       "      <th>housing</th>\n",
       "      <th>loan</th>\n",
       "      <th>contact</th>\n",
       "      <th>day</th>\n",
       "      <th>month</th>\n",
       "      <th>duration</th>\n",
       "      <th>campaign</th>\n",
       "      <th>pdays</th>\n",
       "      <th>previous</th>\n",
       "      <th>poutcome</th>\n",
       "      <th>y</th>\n",
       "    </tr>\n",
       "  </thead>\n",
       "  <tbody>\n",
       "    <tr>\n",
       "      <th>0</th>\n",
       "      <td>58</td>\n",
       "      <td>management</td>\n",
       "      <td>married</td>\n",
       "      <td>tertiary</td>\n",
       "      <td>no</td>\n",
       "      <td>2143</td>\n",
       "      <td>yes</td>\n",
       "      <td>no</td>\n",
       "      <td>unknown</td>\n",
       "      <td>5</td>\n",
       "      <td>may</td>\n",
       "      <td>261</td>\n",
       "      <td>1</td>\n",
       "      <td>-1</td>\n",
       "      <td>0</td>\n",
       "      <td>unknown</td>\n",
       "      <td>no</td>\n",
       "    </tr>\n",
       "    <tr>\n",
       "      <th>1</th>\n",
       "      <td>44</td>\n",
       "      <td>technician</td>\n",
       "      <td>single</td>\n",
       "      <td>secondary</td>\n",
       "      <td>no</td>\n",
       "      <td>29</td>\n",
       "      <td>yes</td>\n",
       "      <td>no</td>\n",
       "      <td>unknown</td>\n",
       "      <td>5</td>\n",
       "      <td>may</td>\n",
       "      <td>151</td>\n",
       "      <td>1</td>\n",
       "      <td>-1</td>\n",
       "      <td>0</td>\n",
       "      <td>unknown</td>\n",
       "      <td>no</td>\n",
       "    </tr>\n",
       "    <tr>\n",
       "      <th>2</th>\n",
       "      <td>33</td>\n",
       "      <td>entrepreneur</td>\n",
       "      <td>married</td>\n",
       "      <td>secondary</td>\n",
       "      <td>no</td>\n",
       "      <td>2</td>\n",
       "      <td>yes</td>\n",
       "      <td>yes</td>\n",
       "      <td>unknown</td>\n",
       "      <td>5</td>\n",
       "      <td>may</td>\n",
       "      <td>76</td>\n",
       "      <td>1</td>\n",
       "      <td>-1</td>\n",
       "      <td>0</td>\n",
       "      <td>unknown</td>\n",
       "      <td>no</td>\n",
       "    </tr>\n",
       "    <tr>\n",
       "      <th>3</th>\n",
       "      <td>47</td>\n",
       "      <td>blue-collar</td>\n",
       "      <td>married</td>\n",
       "      <td>unknown</td>\n",
       "      <td>no</td>\n",
       "      <td>1506</td>\n",
       "      <td>yes</td>\n",
       "      <td>no</td>\n",
       "      <td>unknown</td>\n",
       "      <td>5</td>\n",
       "      <td>may</td>\n",
       "      <td>92</td>\n",
       "      <td>1</td>\n",
       "      <td>-1</td>\n",
       "      <td>0</td>\n",
       "      <td>unknown</td>\n",
       "      <td>no</td>\n",
       "    </tr>\n",
       "    <tr>\n",
       "      <th>4</th>\n",
       "      <td>33</td>\n",
       "      <td>unknown</td>\n",
       "      <td>single</td>\n",
       "      <td>unknown</td>\n",
       "      <td>no</td>\n",
       "      <td>1</td>\n",
       "      <td>no</td>\n",
       "      <td>no</td>\n",
       "      <td>unknown</td>\n",
       "      <td>5</td>\n",
       "      <td>may</td>\n",
       "      <td>198</td>\n",
       "      <td>1</td>\n",
       "      <td>-1</td>\n",
       "      <td>0</td>\n",
       "      <td>unknown</td>\n",
       "      <td>no</td>\n",
       "    </tr>\n",
       "  </tbody>\n",
       "</table>\n",
       "</div>"
      ],
      "text/plain": [
       "   age           job  marital  education default  balance housing loan  \\\n",
       "0   58    management  married   tertiary      no     2143     yes   no   \n",
       "1   44    technician   single  secondary      no       29     yes   no   \n",
       "2   33  entrepreneur  married  secondary      no        2     yes  yes   \n",
       "3   47   blue-collar  married    unknown      no     1506     yes   no   \n",
       "4   33       unknown   single    unknown      no        1      no   no   \n",
       "\n",
       "   contact  day month  duration  campaign  pdays  previous poutcome   y  \n",
       "0  unknown    5   may       261         1     -1         0  unknown  no  \n",
       "1  unknown    5   may       151         1     -1         0  unknown  no  \n",
       "2  unknown    5   may        76         1     -1         0  unknown  no  \n",
       "3  unknown    5   may        92         1     -1         0  unknown  no  \n",
       "4  unknown    5   may       198         1     -1         0  unknown  no  "
      ]
     },
     "execution_count": 1,
     "metadata": {},
     "output_type": "execute_result"
    }
   ],
   "source": [
    "# Для первой загрузки\n",
    "# import quilt\n",
    "# quilt.install('uciml/bank')\n",
    "# quilt.rm('packet')\n",
    "from quilt.data.uciml import bank\n",
    "\n",
    "bank_full = bank.tables.bank_full()\n",
    "bank_full.head()"
   ]
  },
  {
   "cell_type": "code",
   "execution_count": 2,
   "metadata": {},
   "outputs": [],
   "source": [
    "bank_full.to_csv('inf.csv')"
   ]
  },
  {
   "cell_type": "markdown",
   "metadata": {},
   "source": [
    "# Подготовка данных"
   ]
  },
  {
   "cell_type": "code",
   "execution_count": 3,
   "metadata": {},
   "outputs": [],
   "source": [
    "import numpy as np\n",
    "import pandas as pd\n",
    "\n",
    "features = ['age', 'job', 'marital', 'education', 'default', 'balance', \n",
    "            'housing', 'loan', 'contact', 'campaign',\n",
    "            'pdays', 'previous', 'poutcome']  # 'duration'\n",
    "\n",
    "cat_features = bank_full[features].select_dtypes(object).columns\n",
    "num_features = bank_full[features].select_dtypes(np.number).columns"
   ]
  },
  {
   "cell_type": "code",
   "execution_count": 4,
   "metadata": {},
   "outputs": [
    {
     "data": {
      "text/plain": [
       "Index(['job', 'marital', 'education', 'default', 'housing', 'loan', 'contact',\n",
       "       'poutcome'],\n",
       "      dtype='object')"
      ]
     },
     "execution_count": 4,
     "metadata": {},
     "output_type": "execute_result"
    }
   ],
   "source": [
    "cat_features"
   ]
  },
  {
   "cell_type": "code",
   "execution_count": 5,
   "metadata": {},
   "outputs": [
    {
     "data": {
      "text/plain": [
       "job          12\n",
       "marital       3\n",
       "education     4\n",
       "default       2\n",
       "housing       2\n",
       "loan          2\n",
       "contact       3\n",
       "poutcome      4\n",
       "dtype: int64"
      ]
     },
     "execution_count": 5,
     "metadata": {},
     "output_type": "execute_result"
    }
   ],
   "source": [
    "bank_full[cat_features].apply(pd.Series.nunique)"
   ]
  },
  {
   "cell_type": "markdown",
   "metadata": {},
   "source": [
    "**Задание.** Произвести one hot кодировку категориальных полей.\n",
    "\n",
    "Hint: [`pd.concat`](https://pandas.pydata.org/pandas-docs/stable/generated/pandas.concat.html), [`pd.get_dummies`](https://pandas.pydata.org/pandas-docs/stable/generated/pandas.get_dummies.html)."
   ]
  },
  {
   "cell_type": "code",
   "execution_count": 6,
   "metadata": {},
   "outputs": [
    {
     "data": {
      "text/plain": [
       "(45211, 37)"
      ]
     },
     "execution_count": 6,
     "metadata": {},
     "output_type": "execute_result"
    }
   ],
   "source": [
    "# парсим признаки\n",
    "X = pd.concat([bank_full[num_features], pd.get_dummies(bank_full[cat_features])], axis = 1)\n",
    "X.shape"
   ]
  },
  {
   "cell_type": "code",
   "execution_count": 7,
   "metadata": {},
   "outputs": [],
   "source": [
    "y = bank_full['y'].replace({'yes': 1, 'no': 0})"
   ]
  },
  {
   "cell_type": "code",
   "execution_count": 8,
   "metadata": {},
   "outputs": [
    {
     "data": {
      "text/plain": [
       "Index(['age', 'balance', 'campaign', 'pdays', 'previous', 'job_admin.',\n",
       "       'job_blue-collar', 'job_entrepreneur', 'job_housemaid',\n",
       "       'job_management', 'job_retired', 'job_self-employed', 'job_services',\n",
       "       'job_student', 'job_technician', 'job_unemployed', 'job_unknown',\n",
       "       'marital_divorced', 'marital_married', 'marital_single',\n",
       "       'education_primary', 'education_secondary', 'education_tertiary',\n",
       "       'education_unknown', 'default_no', 'default_yes', 'housing_no',\n",
       "       'housing_yes', 'loan_no', 'loan_yes', 'contact_cellular',\n",
       "       'contact_telephone', 'contact_unknown', 'poutcome_failure',\n",
       "       'poutcome_other', 'poutcome_success', 'poutcome_unknown'],\n",
       "      dtype='object')"
      ]
     },
     "execution_count": 8,
     "metadata": {},
     "output_type": "execute_result"
    }
   ],
   "source": [
    "X.columns"
   ]
  },
  {
   "cell_type": "markdown",
   "metadata": {},
   "source": [
    "Разделим выборку по времени"
   ]
  },
  {
   "cell_type": "code",
   "execution_count": 9,
   "metadata": {},
   "outputs": [],
   "source": [
    "from sklearn.model_selection import train_test_split\n",
    "X_train, X_test, y_train, y_test = train_test_split(X, y, test_size=0.33)"
   ]
  },
  {
   "cell_type": "markdown",
   "metadata": {},
   "source": [
    "# Извлечение зависимости"
   ]
  },
  {
   "cell_type": "code",
   "execution_count": 10,
   "metadata": {},
   "outputs": [],
   "source": [
    "from sklearn.ensemble import GradientBoostingClassifier\n",
    "from sklearn.model_selection import cross_val_score, StratifiedKFold"
   ]
  },
  {
   "cell_type": "code",
   "execution_count": 11,
   "metadata": {},
   "outputs": [
    {
     "data": {
      "text/plain": [
       "array([ 0.74068125,  0.76485647,  0.72109754])"
      ]
     },
     "execution_count": 11,
     "metadata": {},
     "output_type": "execute_result"
    }
   ],
   "source": [
    "cv = StratifiedKFold(n_splits=3, random_state=42, shuffle=True)\n",
    "\n",
    "clf = GradientBoostingClassifier(learning_rate=0.1, n_estimators=10)\n",
    "\n",
    "cv_score = cross_val_score(clf, X_train, y_train, cv=cv, scoring='roc_auc')\n",
    "cv_score"
   ]
  },
  {
   "cell_type": "code",
   "execution_count": 12,
   "metadata": {},
   "outputs": [
    {
     "data": {
      "text/plain": [
       "StratifiedKFold(n_splits=3, random_state=42, shuffle=True)"
      ]
     },
     "execution_count": 12,
     "metadata": {},
     "output_type": "execute_result"
    }
   ],
   "source": [
    "cv"
   ]
  },
  {
   "cell_type": "markdown",
   "metadata": {},
   "source": [
    "---"
   ]
  },
  {
   "cell_type": "code",
   "execution_count": 13,
   "metadata": {},
   "outputs": [],
   "source": [
    "from sklearn.model_selection import GridSearchCV"
   ]
  },
  {
   "cell_type": "code",
   "execution_count": 14,
   "metadata": {},
   "outputs": [],
   "source": [
    "booster_grid = {'learning_rate': [0.1, 0.05, 0.01], 'max_depth': [2, 3]}\n",
    "\n",
    "booster = GradientBoostingClassifier(n_estimators=100)\n",
    "\n",
    "gs_booster = GridSearchCV(booster, booster_grid, scoring='roc_auc',\n",
    "                          cv=cv, verbose=1, n_jobs=-1, return_train_score=True)"
   ]
  },
  {
   "cell_type": "code",
   "execution_count": 15,
   "metadata": {},
   "outputs": [
    {
     "name": "stdout",
     "output_type": "stream",
     "text": [
      "Fitting 3 folds for each of 6 candidates, totalling 18 fits\n"
     ]
    },
    {
     "name": "stderr",
     "output_type": "stream",
     "text": [
      "[Parallel(n_jobs=-1)]: Done  18 out of  18 | elapsed:   14.0s finished\n"
     ]
    },
    {
     "data": {
      "text/plain": [
       "{'learning_rate': 0.1, 'max_depth': 3}"
      ]
     },
     "execution_count": 15,
     "metadata": {},
     "output_type": "execute_result"
    }
   ],
   "source": [
    "gs_booster.fit(X_train, y_train);\n",
    "gs_booster.best_params_"
   ]
  },
  {
   "cell_type": "code",
   "execution_count": 16,
   "metadata": {},
   "outputs": [
    {
     "data": {
      "text/html": [
       "<div>\n",
       "<style scoped>\n",
       "    .dataframe tbody tr th:only-of-type {\n",
       "        vertical-align: middle;\n",
       "    }\n",
       "\n",
       "    .dataframe tbody tr th {\n",
       "        vertical-align: top;\n",
       "    }\n",
       "\n",
       "    .dataframe thead th {\n",
       "        text-align: right;\n",
       "    }\n",
       "</style>\n",
       "<table border=\"1\" class=\"dataframe\">\n",
       "  <thead>\n",
       "    <tr style=\"text-align: right;\">\n",
       "      <th></th>\n",
       "      <th>mean_fit_time</th>\n",
       "      <th>mean_score_time</th>\n",
       "      <th>mean_test_score</th>\n",
       "      <th>mean_train_score</th>\n",
       "      <th>param_learning_rate</th>\n",
       "      <th>param_max_depth</th>\n",
       "      <th>params</th>\n",
       "      <th>rank_test_score</th>\n",
       "      <th>split0_test_score</th>\n",
       "      <th>split0_train_score</th>\n",
       "      <th>split1_test_score</th>\n",
       "      <th>split1_train_score</th>\n",
       "      <th>split2_test_score</th>\n",
       "      <th>split2_train_score</th>\n",
       "      <th>std_fit_time</th>\n",
       "      <th>std_score_time</th>\n",
       "      <th>std_test_score</th>\n",
       "      <th>std_train_score</th>\n",
       "    </tr>\n",
       "  </thead>\n",
       "  <tbody>\n",
       "    <tr>\n",
       "      <th>0</th>\n",
       "      <td>2.274566</td>\n",
       "      <td>0.035454</td>\n",
       "      <td>0.764558</td>\n",
       "      <td>0.775425</td>\n",
       "      <td>0.1</td>\n",
       "      <td>2</td>\n",
       "      <td>{'learning_rate': 0.1, 'max_depth': 2}</td>\n",
       "      <td>2</td>\n",
       "      <td>0.759134</td>\n",
       "      <td>0.779330</td>\n",
       "      <td>0.781189</td>\n",
       "      <td>0.767044</td>\n",
       "      <td>0.753351</td>\n",
       "      <td>0.779902</td>\n",
       "      <td>0.038476</td>\n",
       "      <td>0.002185</td>\n",
       "      <td>0.011994</td>\n",
       "      <td>0.005931</td>\n",
       "    </tr>\n",
       "    <tr>\n",
       "      <th>1</th>\n",
       "      <td>3.752168</td>\n",
       "      <td>0.037174</td>\n",
       "      <td>0.765775</td>\n",
       "      <td>0.788252</td>\n",
       "      <td>0.1</td>\n",
       "      <td>3</td>\n",
       "      <td>{'learning_rate': 0.1, 'max_depth': 3}</td>\n",
       "      <td>1</td>\n",
       "      <td>0.758712</td>\n",
       "      <td>0.791836</td>\n",
       "      <td>0.783356</td>\n",
       "      <td>0.780445</td>\n",
       "      <td>0.755257</td>\n",
       "      <td>0.792475</td>\n",
       "      <td>0.071225</td>\n",
       "      <td>0.004117</td>\n",
       "      <td>0.012511</td>\n",
       "      <td>0.005527</td>\n",
       "    </tr>\n",
       "    <tr>\n",
       "      <th>2</th>\n",
       "      <td>2.272488</td>\n",
       "      <td>0.031222</td>\n",
       "      <td>0.761086</td>\n",
       "      <td>0.768020</td>\n",
       "      <td>0.05</td>\n",
       "      <td>2</td>\n",
       "      <td>{'learning_rate': 0.05, 'max_depth': 2}</td>\n",
       "      <td>4</td>\n",
       "      <td>0.757380</td>\n",
       "      <td>0.772187</td>\n",
       "      <td>0.777255</td>\n",
       "      <td>0.760229</td>\n",
       "      <td>0.748624</td>\n",
       "      <td>0.771645</td>\n",
       "      <td>0.021640</td>\n",
       "      <td>0.000390</td>\n",
       "      <td>0.011978</td>\n",
       "      <td>0.005514</td>\n",
       "    </tr>\n",
       "    <tr>\n",
       "      <th>3</th>\n",
       "      <td>4.029166</td>\n",
       "      <td>0.035828</td>\n",
       "      <td>0.763859</td>\n",
       "      <td>0.777082</td>\n",
       "      <td>0.05</td>\n",
       "      <td>3</td>\n",
       "      <td>{'learning_rate': 0.05, 'max_depth': 3}</td>\n",
       "      <td>3</td>\n",
       "      <td>0.757399</td>\n",
       "      <td>0.780938</td>\n",
       "      <td>0.780516</td>\n",
       "      <td>0.769170</td>\n",
       "      <td>0.753660</td>\n",
       "      <td>0.781138</td>\n",
       "      <td>0.048004</td>\n",
       "      <td>0.000880</td>\n",
       "      <td>0.011877</td>\n",
       "      <td>0.005595</td>\n",
       "    </tr>\n",
       "    <tr>\n",
       "      <th>4</th>\n",
       "      <td>1.963795</td>\n",
       "      <td>0.029821</td>\n",
       "      <td>0.722536</td>\n",
       "      <td>0.723910</td>\n",
       "      <td>0.01</td>\n",
       "      <td>2</td>\n",
       "      <td>{'learning_rate': 0.01, 'max_depth': 2}</td>\n",
       "      <td>6</td>\n",
       "      <td>0.728254</td>\n",
       "      <td>0.737052</td>\n",
       "      <td>0.739292</td>\n",
       "      <td>0.711105</td>\n",
       "      <td>0.700059</td>\n",
       "      <td>0.723572</td>\n",
       "      <td>0.035764</td>\n",
       "      <td>0.000816</td>\n",
       "      <td>0.016519</td>\n",
       "      <td>0.010596</td>\n",
       "    </tr>\n",
       "    <tr>\n",
       "      <th>5</th>\n",
       "      <td>2.771994</td>\n",
       "      <td>0.018671</td>\n",
       "      <td>0.745545</td>\n",
       "      <td>0.749447</td>\n",
       "      <td>0.01</td>\n",
       "      <td>3</td>\n",
       "      <td>{'learning_rate': 0.01, 'max_depth': 3}</td>\n",
       "      <td>5</td>\n",
       "      <td>0.741309</td>\n",
       "      <td>0.753156</td>\n",
       "      <td>0.766146</td>\n",
       "      <td>0.740151</td>\n",
       "      <td>0.729178</td>\n",
       "      <td>0.755033</td>\n",
       "      <td>0.226698</td>\n",
       "      <td>0.001199</td>\n",
       "      <td>0.015386</td>\n",
       "      <td>0.006618</td>\n",
       "    </tr>\n",
       "  </tbody>\n",
       "</table>\n",
       "</div>"
      ],
      "text/plain": [
       "   mean_fit_time  mean_score_time  mean_test_score  mean_train_score  \\\n",
       "0       2.274566         0.035454         0.764558          0.775425   \n",
       "1       3.752168         0.037174         0.765775          0.788252   \n",
       "2       2.272488         0.031222         0.761086          0.768020   \n",
       "3       4.029166         0.035828         0.763859          0.777082   \n",
       "4       1.963795         0.029821         0.722536          0.723910   \n",
       "5       2.771994         0.018671         0.745545          0.749447   \n",
       "\n",
       "  param_learning_rate param_max_depth  \\\n",
       "0                 0.1               2   \n",
       "1                 0.1               3   \n",
       "2                0.05               2   \n",
       "3                0.05               3   \n",
       "4                0.01               2   \n",
       "5                0.01               3   \n",
       "\n",
       "                                    params  rank_test_score  \\\n",
       "0   {'learning_rate': 0.1, 'max_depth': 2}                2   \n",
       "1   {'learning_rate': 0.1, 'max_depth': 3}                1   \n",
       "2  {'learning_rate': 0.05, 'max_depth': 2}                4   \n",
       "3  {'learning_rate': 0.05, 'max_depth': 3}                3   \n",
       "4  {'learning_rate': 0.01, 'max_depth': 2}                6   \n",
       "5  {'learning_rate': 0.01, 'max_depth': 3}                5   \n",
       "\n",
       "   split0_test_score  split0_train_score  split1_test_score  \\\n",
       "0           0.759134            0.779330           0.781189   \n",
       "1           0.758712            0.791836           0.783356   \n",
       "2           0.757380            0.772187           0.777255   \n",
       "3           0.757399            0.780938           0.780516   \n",
       "4           0.728254            0.737052           0.739292   \n",
       "5           0.741309            0.753156           0.766146   \n",
       "\n",
       "   split1_train_score  split2_test_score  split2_train_score  std_fit_time  \\\n",
       "0            0.767044           0.753351            0.779902      0.038476   \n",
       "1            0.780445           0.755257            0.792475      0.071225   \n",
       "2            0.760229           0.748624            0.771645      0.021640   \n",
       "3            0.769170           0.753660            0.781138      0.048004   \n",
       "4            0.711105           0.700059            0.723572      0.035764   \n",
       "5            0.740151           0.729178            0.755033      0.226698   \n",
       "\n",
       "   std_score_time  std_test_score  std_train_score  \n",
       "0        0.002185        0.011994         0.005931  \n",
       "1        0.004117        0.012511         0.005527  \n",
       "2        0.000390        0.011978         0.005514  \n",
       "3        0.000880        0.011877         0.005595  \n",
       "4        0.000816        0.016519         0.010596  \n",
       "5        0.001199        0.015386         0.006618  "
      ]
     },
     "execution_count": 16,
     "metadata": {},
     "output_type": "execute_result"
    }
   ],
   "source": [
    "pd.DataFrame(gs_booster.cv_results_)"
   ]
  },
  {
   "cell_type": "markdown",
   "metadata": {},
   "source": [
    "---"
   ]
  },
  {
   "cell_type": "markdown",
   "metadata": {},
   "source": [
    "**Задание** Подберите параметр количества соседей для KNeighborsClassifier в диапозоне [1, 5, 10], делая при этом нормировку StandardScaler\n",
    "\n",
    "Hint: для [`make_pipeline`](http://scikit-learn.org/stable/modules/generated/sklearn.pipeline.make_pipeline.html)"
   ]
  },
  {
   "cell_type": "code",
   "execution_count": 17,
   "metadata": {},
   "outputs": [
    {
     "data": {
      "text/plain": [
       "Pipeline(steps=[('standardscaler', StandardScaler(copy=True, with_mean=True, with_std=True)), ('kneighborsclassifier', KNeighborsClassifier(algorithm='auto', leaf_size=30, metric='minkowski',\n",
       "           metric_params=None, n_jobs=1, n_neighbors=5, p=2,\n",
       "           weights='uniform'))])"
      ]
     },
     "execution_count": 17,
     "metadata": {},
     "output_type": "execute_result"
    }
   ],
   "source": [
    "from sklearn.neighbors import KNeighborsClassifier\n",
    "from sklearn.pipeline import make_pipeline\n",
    "from sklearn.preprocessing import StandardScaler\n",
    "\n",
    "\n",
    "# <вставить код>\n",
    "knn_grid = {'kneighborsclassifier__n_neighbors': [1, 5, 10]}\n",
    "\n",
    "knn = make_pipeline(StandardScaler(), KNeighborsClassifier())\n",
    "knn"
   ]
  },
  {
   "cell_type": "code",
   "execution_count": 18,
   "metadata": {},
   "outputs": [],
   "source": [
    "gs_knn = GridSearchCV(knn, knn_grid, scoring='roc_auc', cv=cv, verbose=1, n_jobs=-1, return_train_score=True)"
   ]
  },
  {
   "cell_type": "code",
   "execution_count": 19,
   "metadata": {},
   "outputs": [
    {
     "name": "stdout",
     "output_type": "stream",
     "text": [
      "Fitting 3 folds for each of 3 candidates, totalling 9 fits\n"
     ]
    },
    {
     "name": "stderr",
     "output_type": "stream",
     "text": [
      "[Parallel(n_jobs=-1)]: Done   9 out of   9 | elapsed:  2.0min finished\n"
     ]
    },
    {
     "data": {
      "text/plain": [
       "{'kneighborsclassifier__n_neighbors': 10}"
      ]
     },
     "execution_count": 19,
     "metadata": {},
     "output_type": "execute_result"
    }
   ],
   "source": [
    "gs_knn.fit(X_train, y_train)\n",
    "gs_knn.best_params_"
   ]
  },
  {
   "cell_type": "code",
   "execution_count": 20,
   "metadata": {},
   "outputs": [
    {
     "data": {
      "text/html": [
       "<div>\n",
       "<style scoped>\n",
       "    .dataframe tbody tr th:only-of-type {\n",
       "        vertical-align: middle;\n",
       "    }\n",
       "\n",
       "    .dataframe tbody tr th {\n",
       "        vertical-align: top;\n",
       "    }\n",
       "\n",
       "    .dataframe thead th {\n",
       "        text-align: right;\n",
       "    }\n",
       "</style>\n",
       "<table border=\"1\" class=\"dataframe\">\n",
       "  <thead>\n",
       "    <tr style=\"text-align: right;\">\n",
       "      <th></th>\n",
       "      <th>mean_fit_time</th>\n",
       "      <th>mean_score_time</th>\n",
       "      <th>mean_test_score</th>\n",
       "      <th>mean_train_score</th>\n",
       "      <th>param_kneighborsclassifier__n_neighbors</th>\n",
       "      <th>params</th>\n",
       "      <th>rank_test_score</th>\n",
       "      <th>split0_test_score</th>\n",
       "      <th>split0_train_score</th>\n",
       "      <th>split1_test_score</th>\n",
       "      <th>split1_train_score</th>\n",
       "      <th>split2_test_score</th>\n",
       "      <th>split2_train_score</th>\n",
       "      <th>std_fit_time</th>\n",
       "      <th>std_score_time</th>\n",
       "      <th>std_test_score</th>\n",
       "      <th>std_train_score</th>\n",
       "    </tr>\n",
       "  </thead>\n",
       "  <tbody>\n",
       "    <tr>\n",
       "      <th>0</th>\n",
       "      <td>1.718514</td>\n",
       "      <td>11.406904</td>\n",
       "      <td>0.589660</td>\n",
       "      <td>0.999294</td>\n",
       "      <td>1</td>\n",
       "      <td>{'kneighborsclassifier__n_neighbors': 1}</td>\n",
       "      <td>3</td>\n",
       "      <td>0.585324</td>\n",
       "      <td>0.998904</td>\n",
       "      <td>0.598625</td>\n",
       "      <td>0.999433</td>\n",
       "      <td>0.585031</td>\n",
       "      <td>0.999545</td>\n",
       "      <td>0.735873</td>\n",
       "      <td>0.173679</td>\n",
       "      <td>0.006340</td>\n",
       "      <td>0.000279</td>\n",
       "    </tr>\n",
       "    <tr>\n",
       "      <th>1</th>\n",
       "      <td>1.235869</td>\n",
       "      <td>21.282359</td>\n",
       "      <td>0.666097</td>\n",
       "      <td>0.908049</td>\n",
       "      <td>5</td>\n",
       "      <td>{'kneighborsclassifier__n_neighbors': 5}</td>\n",
       "      <td>2</td>\n",
       "      <td>0.661010</td>\n",
       "      <td>0.910443</td>\n",
       "      <td>0.685381</td>\n",
       "      <td>0.903159</td>\n",
       "      <td>0.651900</td>\n",
       "      <td>0.910545</td>\n",
       "      <td>0.893753</td>\n",
       "      <td>0.610231</td>\n",
       "      <td>0.014134</td>\n",
       "      <td>0.003458</td>\n",
       "    </tr>\n",
       "    <tr>\n",
       "      <th>2</th>\n",
       "      <td>0.828012</td>\n",
       "      <td>22.034002</td>\n",
       "      <td>0.686695</td>\n",
       "      <td>0.861610</td>\n",
       "      <td>10</td>\n",
       "      <td>{'kneighborsclassifier__n_neighbors': 10}</td>\n",
       "      <td>1</td>\n",
       "      <td>0.686081</td>\n",
       "      <td>0.864004</td>\n",
       "      <td>0.699011</td>\n",
       "      <td>0.856100</td>\n",
       "      <td>0.674992</td>\n",
       "      <td>0.864726</td>\n",
       "      <td>0.357278</td>\n",
       "      <td>3.137696</td>\n",
       "      <td>0.009815</td>\n",
       "      <td>0.003907</td>\n",
       "    </tr>\n",
       "  </tbody>\n",
       "</table>\n",
       "</div>"
      ],
      "text/plain": [
       "   mean_fit_time  mean_score_time  mean_test_score  mean_train_score  \\\n",
       "0       1.718514        11.406904         0.589660          0.999294   \n",
       "1       1.235869        21.282359         0.666097          0.908049   \n",
       "2       0.828012        22.034002         0.686695          0.861610   \n",
       "\n",
       "  param_kneighborsclassifier__n_neighbors  \\\n",
       "0                                       1   \n",
       "1                                       5   \n",
       "2                                      10   \n",
       "\n",
       "                                      params  rank_test_score  \\\n",
       "0   {'kneighborsclassifier__n_neighbors': 1}                3   \n",
       "1   {'kneighborsclassifier__n_neighbors': 5}                2   \n",
       "2  {'kneighborsclassifier__n_neighbors': 10}                1   \n",
       "\n",
       "   split0_test_score  split0_train_score  split1_test_score  \\\n",
       "0           0.585324            0.998904           0.598625   \n",
       "1           0.661010            0.910443           0.685381   \n",
       "2           0.686081            0.864004           0.699011   \n",
       "\n",
       "   split1_train_score  split2_test_score  split2_train_score  std_fit_time  \\\n",
       "0            0.999433           0.585031            0.999545      0.735873   \n",
       "1            0.903159           0.651900            0.910545      0.893753   \n",
       "2            0.856100           0.674992            0.864726      0.357278   \n",
       "\n",
       "   std_score_time  std_test_score  std_train_score  \n",
       "0        0.173679        0.006340         0.000279  \n",
       "1        0.610231        0.014134         0.003458  \n",
       "2        3.137696        0.009815         0.003907  "
      ]
     },
     "execution_count": 20,
     "metadata": {},
     "output_type": "execute_result"
    }
   ],
   "source": [
    "pd.DataFrame(gs_knn.cv_results_)"
   ]
  },
  {
   "cell_type": "markdown",
   "metadata": {},
   "source": [
    "---"
   ]
  },
  {
   "cell_type": "markdown",
   "metadata": {},
   "source": [
    "**Задание** Перед запуском Knn произведите отбор самых важных признаков, используя [`SelectFromModel`](http://scikit-learn.org/stable/modules/generated/sklearn.feature_selection.SelectFromModel.html), перебирая значения `threshold` в диапозоне ['0.1*mean', '0.5*mean', 'mean'], а в качестве модели взять [`DecisionTreeClassifier`](http://scikit-learn.org/stable/modules/generated/sklearn.tree.DecisionTreeClassifier.html)."
   ]
  },
  {
   "cell_type": "code",
   "execution_count": 21,
   "metadata": {},
   "outputs": [],
   "source": [
    "from sklearn.feature_selection import SelectFromModel\n",
    "from sklearn.tree import DecisionTreeClassifier"
   ]
  },
  {
   "cell_type": "code",
   "execution_count": 22,
   "metadata": {},
   "outputs": [],
   "source": [
    "tree = DecisionTreeClassifier(max_depth = 10).fit(X_train, y_train)"
   ]
  },
  {
   "cell_type": "code",
   "execution_count": 23,
   "metadata": {},
   "outputs": [],
   "source": [
    "selector = SelectFromModel(tree)"
   ]
  },
  {
   "cell_type": "code",
   "execution_count": 24,
   "metadata": {},
   "outputs": [],
   "source": [
    "# knn_sel = make_pipeline()\n",
    "# <вставить код>\n",
    "\n",
    "knn_sel_grid = {'selectfrommodel__threshold' : ['0.1*mean', '0.5*mean', 'mean']}\n",
    "knn_sel = make_pipeline(StandardScaler(), SelectFromModel(tree), KNeighborsClassifier(n_neighbors = 5))\n",
    "\n",
    "gs_knn_sel = GridSearchCV(knn_sel, knn_sel_grid, scoring='roc_auc', cv=cv, verbose=1, n_jobs=-1, return_train_score=True)"
   ]
  },
  {
   "cell_type": "code",
   "execution_count": 25,
   "metadata": {},
   "outputs": [
    {
     "name": "stdout",
     "output_type": "stream",
     "text": [
      "Fitting 3 folds for each of 3 candidates, totalling 9 fits\n"
     ]
    },
    {
     "name": "stderr",
     "output_type": "stream",
     "text": [
      "[Parallel(n_jobs=-1)]: Done   9 out of   9 | elapsed:   25.5s finished\n"
     ]
    },
    {
     "data": {
      "text/plain": [
       "{'selectfrommodel__threshold': '0.1*mean'}"
      ]
     },
     "execution_count": 25,
     "metadata": {},
     "output_type": "execute_result"
    }
   ],
   "source": [
    "gs_knn_sel.fit(X_train, y_train)\n",
    "gs_knn_sel.best_params_"
   ]
  },
  {
   "cell_type": "code",
   "execution_count": 26,
   "metadata": {},
   "outputs": [
    {
     "data": {
      "text/plain": [
       "Pipeline(steps=[('standardscaler', StandardScaler(copy=True, with_mean=True, with_std=True)), ('selectfrommodel', SelectFromModel(estimator=DecisionTreeClassifier(class_weight=None, criterion='gini', max_depth=10,\n",
       "            max_features=None, max_leaf_nodes=None,\n",
       "            min_impurity_split=1e-07, min_s...owski',\n",
       "           metric_params=None, n_jobs=1, n_neighbors=5, p=2,\n",
       "           weights='uniform'))])"
      ]
     },
     "execution_count": 26,
     "metadata": {},
     "output_type": "execute_result"
    }
   ],
   "source": [
    "knn_sel.set_params(selectfrommodel__threshold= '0.5*mean')"
   ]
  },
  {
   "cell_type": "code",
   "execution_count": 27,
   "metadata": {},
   "outputs": [
    {
     "data": {
      "text/html": [
       "<div>\n",
       "<style scoped>\n",
       "    .dataframe tbody tr th:only-of-type {\n",
       "        vertical-align: middle;\n",
       "    }\n",
       "\n",
       "    .dataframe tbody tr th {\n",
       "        vertical-align: top;\n",
       "    }\n",
       "\n",
       "    .dataframe thead th {\n",
       "        text-align: right;\n",
       "    }\n",
       "</style>\n",
       "<table border=\"1\" class=\"dataframe\">\n",
       "  <thead>\n",
       "    <tr style=\"text-align: right;\">\n",
       "      <th></th>\n",
       "      <th>mean_fit_time</th>\n",
       "      <th>mean_score_time</th>\n",
       "      <th>mean_test_score</th>\n",
       "      <th>mean_train_score</th>\n",
       "      <th>param_selectfrommodel__threshold</th>\n",
       "      <th>params</th>\n",
       "      <th>rank_test_score</th>\n",
       "      <th>split0_test_score</th>\n",
       "      <th>split0_train_score</th>\n",
       "      <th>split1_test_score</th>\n",
       "      <th>split1_train_score</th>\n",
       "      <th>split2_test_score</th>\n",
       "      <th>split2_train_score</th>\n",
       "      <th>std_fit_time</th>\n",
       "      <th>std_score_time</th>\n",
       "      <th>std_test_score</th>\n",
       "      <th>std_train_score</th>\n",
       "    </tr>\n",
       "  </thead>\n",
       "  <tbody>\n",
       "    <tr>\n",
       "      <th>0</th>\n",
       "      <td>1.484937</td>\n",
       "      <td>10.325887</td>\n",
       "      <td>0.672665</td>\n",
       "      <td>0.908735</td>\n",
       "      <td>0.1*mean</td>\n",
       "      <td>{'selectfrommodel__threshold': '0.1*mean'}</td>\n",
       "      <td>1</td>\n",
       "      <td>0.657267</td>\n",
       "      <td>0.912147</td>\n",
       "      <td>0.696855</td>\n",
       "      <td>0.903060</td>\n",
       "      <td>0.663875</td>\n",
       "      <td>0.910997</td>\n",
       "      <td>0.552916</td>\n",
       "      <td>0.428313</td>\n",
       "      <td>0.017316</td>\n",
       "      <td>0.004040</td>\n",
       "    </tr>\n",
       "    <tr>\n",
       "      <th>1</th>\n",
       "      <td>0.757974</td>\n",
       "      <td>0.715221</td>\n",
       "      <td>0.667783</td>\n",
       "      <td>0.903525</td>\n",
       "      <td>0.5*mean</td>\n",
       "      <td>{'selectfrommodel__threshold': '0.5*mean'}</td>\n",
       "      <td>2</td>\n",
       "      <td>0.661734</td>\n",
       "      <td>0.903098</td>\n",
       "      <td>0.681955</td>\n",
       "      <td>0.899143</td>\n",
       "      <td>0.659659</td>\n",
       "      <td>0.908334</td>\n",
       "      <td>0.459954</td>\n",
       "      <td>0.061190</td>\n",
       "      <td>0.010057</td>\n",
       "      <td>0.003765</td>\n",
       "    </tr>\n",
       "    <tr>\n",
       "      <th>2</th>\n",
       "      <td>0.259822</td>\n",
       "      <td>0.432406</td>\n",
       "      <td>0.667407</td>\n",
       "      <td>0.901318</td>\n",
       "      <td>mean</td>\n",
       "      <td>{'selectfrommodel__threshold': 'mean'}</td>\n",
       "      <td>3</td>\n",
       "      <td>0.658895</td>\n",
       "      <td>0.902223</td>\n",
       "      <td>0.684435</td>\n",
       "      <td>0.899739</td>\n",
       "      <td>0.658891</td>\n",
       "      <td>0.901994</td>\n",
       "      <td>0.041331</td>\n",
       "      <td>0.086044</td>\n",
       "      <td>0.012041</td>\n",
       "      <td>0.001121</td>\n",
       "    </tr>\n",
       "  </tbody>\n",
       "</table>\n",
       "</div>"
      ],
      "text/plain": [
       "   mean_fit_time  mean_score_time  mean_test_score  mean_train_score  \\\n",
       "0       1.484937        10.325887         0.672665          0.908735   \n",
       "1       0.757974         0.715221         0.667783          0.903525   \n",
       "2       0.259822         0.432406         0.667407          0.901318   \n",
       "\n",
       "  param_selectfrommodel__threshold  \\\n",
       "0                         0.1*mean   \n",
       "1                         0.5*mean   \n",
       "2                             mean   \n",
       "\n",
       "                                       params  rank_test_score  \\\n",
       "0  {'selectfrommodel__threshold': '0.1*mean'}                1   \n",
       "1  {'selectfrommodel__threshold': '0.5*mean'}                2   \n",
       "2      {'selectfrommodel__threshold': 'mean'}                3   \n",
       "\n",
       "   split0_test_score  split0_train_score  split1_test_score  \\\n",
       "0           0.657267            0.912147           0.696855   \n",
       "1           0.661734            0.903098           0.681955   \n",
       "2           0.658895            0.902223           0.684435   \n",
       "\n",
       "   split1_train_score  split2_test_score  split2_train_score  std_fit_time  \\\n",
       "0            0.903060           0.663875            0.910997      0.552916   \n",
       "1            0.899143           0.659659            0.908334      0.459954   \n",
       "2            0.899739           0.658891            0.901994      0.041331   \n",
       "\n",
       "   std_score_time  std_test_score  std_train_score  \n",
       "0        0.428313        0.017316         0.004040  \n",
       "1        0.061190        0.010057         0.003765  \n",
       "2        0.086044        0.012041         0.001121  "
      ]
     },
     "execution_count": 27,
     "metadata": {},
     "output_type": "execute_result"
    }
   ],
   "source": [
    "pd.DataFrame(gs_knn_sel.cv_results_)"
   ]
  },
  {
   "cell_type": "markdown",
   "metadata": {},
   "source": [
    "# Stacking"
   ]
  },
  {
   "cell_type": "code",
   "execution_count": 28,
   "metadata": {},
   "outputs": [],
   "source": [
    "booster = gs_booster.best_estimator_\n",
    "knn = gs_knn.best_estimator_\n",
    "knn_sel = gs_knn_sel.best_estimator_"
   ]
  },
  {
   "cell_type": "markdown",
   "metadata": {},
   "source": [
    "**Задание** Написать функцию, которая возвращает прогноз по схеме кросс-валидации на обучающей выборке и на тесте.\n",
    "\n",
    "Hint: не забудьте использовать метод `'predict_proba'` для [`cross_val_predict`](http://scikit-learn.org/stable/modules/generated/sklearn.model_selection.cross_val_predict.html)"
   ]
  },
  {
   "cell_type": "code",
   "execution_count": 29,
   "metadata": {},
   "outputs": [],
   "source": [
    "from sklearn.model_selection import cross_val_predict\n",
    "\n",
    "\n",
    "def meta_feature(clf, X_train, y_train, X_test, cv, verbose = 1):\n",
    "    cv_pred_train = cross_val_predict(clf, X_train, y = y_train, cv = cv,\n",
    "                                      method = 'predict_proba', n_jobs= -1, verbose = verbose)[:, 1]\n",
    "    clf.fit(X_train, y_train)\n",
    "    pred_test = clf.predict_proba(X_test)[:, 1]\n",
    "    return cv_pred_train, pred_test\n",
    "\n",
    "def meta_feature_predict(clf, X_train, y_train, X_test, cv, verbose = 1):\n",
    "    cv_pred_train = cross_val_predict(clf, X_train, y = y_train, cv = cv,\n",
    "                                      method = 'predict', n_jobs= -1, verbose = verbose)[:, 1]\n",
    "    clf.fit(X_train, y_train)\n",
    "    pred_test = clf.predict(X_test)[:, 1]\n",
    "    return cv_pred_train, pred_test"
   ]
  },
  {
   "cell_type": "code",
   "execution_count": 30,
   "metadata": {},
   "outputs": [
    {
     "name": "stderr",
     "output_type": "stream",
     "text": [
      "[Parallel(n_jobs=-1)]: Done   3 out of   3 | elapsed:    3.2s finished\n",
      "[Parallel(n_jobs=-1)]: Done   3 out of   3 | elapsed:   24.1s finished\n",
      "[Parallel(n_jobs=-1)]: Done   3 out of   3 | elapsed:    9.9s finished\n"
     ]
    }
   ],
   "source": [
    "meta_train = pd.DataFrame()\n",
    "meta_test = pd.DataFrame()\n",
    "\n",
    "meta_train['booster'], meta_test['booster'] = meta_feature(booster, X_train, y_train, X_test, cv)\n",
    "meta_train['knn'    ], meta_test['knn'    ] = meta_feature(knn,     X_train, y_train, X_test, cv)\n",
    "meta_train['knn_sel'], meta_test['knn_sel'] = meta_feature(knn_sel, X_train, y_train, X_test, cv)"
   ]
  },
  {
   "cell_type": "code",
   "execution_count": 31,
   "metadata": {},
   "outputs": [
    {
     "data": {
      "text/html": [
       "<div>\n",
       "<style scoped>\n",
       "    .dataframe tbody tr th:only-of-type {\n",
       "        vertical-align: middle;\n",
       "    }\n",
       "\n",
       "    .dataframe tbody tr th {\n",
       "        vertical-align: top;\n",
       "    }\n",
       "\n",
       "    .dataframe thead th {\n",
       "        text-align: right;\n",
       "    }\n",
       "</style>\n",
       "<table border=\"1\" class=\"dataframe\">\n",
       "  <thead>\n",
       "    <tr style=\"text-align: right;\">\n",
       "      <th></th>\n",
       "      <th>booster</th>\n",
       "      <th>knn</th>\n",
       "      <th>knn_sel</th>\n",
       "    </tr>\n",
       "  </thead>\n",
       "  <tbody>\n",
       "    <tr>\n",
       "      <th>0</th>\n",
       "      <td>0.086995</td>\n",
       "      <td>0.1</td>\n",
       "      <td>0.2</td>\n",
       "    </tr>\n",
       "    <tr>\n",
       "      <th>1</th>\n",
       "      <td>0.361659</td>\n",
       "      <td>0.0</td>\n",
       "      <td>0.2</td>\n",
       "    </tr>\n",
       "    <tr>\n",
       "      <th>2</th>\n",
       "      <td>0.094236</td>\n",
       "      <td>0.2</td>\n",
       "      <td>0.0</td>\n",
       "    </tr>\n",
       "    <tr>\n",
       "      <th>3</th>\n",
       "      <td>0.166644</td>\n",
       "      <td>0.0</td>\n",
       "      <td>0.0</td>\n",
       "    </tr>\n",
       "    <tr>\n",
       "      <th>4</th>\n",
       "      <td>0.116443</td>\n",
       "      <td>0.2</td>\n",
       "      <td>0.2</td>\n",
       "    </tr>\n",
       "  </tbody>\n",
       "</table>\n",
       "</div>"
      ],
      "text/plain": [
       "    booster  knn  knn_sel\n",
       "0  0.086995  0.1      0.2\n",
       "1  0.361659  0.0      0.2\n",
       "2  0.094236  0.2      0.0\n",
       "3  0.166644  0.0      0.0\n",
       "4  0.116443  0.2      0.2"
      ]
     },
     "execution_count": 31,
     "metadata": {},
     "output_type": "execute_result"
    }
   ],
   "source": [
    "meta_train.head()"
   ]
  },
  {
   "cell_type": "code",
   "execution_count": 32,
   "metadata": {},
   "outputs": [
    {
     "data": {
      "text/html": [
       "<div>\n",
       "<style scoped>\n",
       "    .dataframe tbody tr th:only-of-type {\n",
       "        vertical-align: middle;\n",
       "    }\n",
       "\n",
       "    .dataframe tbody tr th {\n",
       "        vertical-align: top;\n",
       "    }\n",
       "\n",
       "    .dataframe thead th {\n",
       "        text-align: right;\n",
       "    }\n",
       "</style>\n",
       "<table border=\"1\" class=\"dataframe\">\n",
       "  <thead>\n",
       "    <tr style=\"text-align: right;\">\n",
       "      <th></th>\n",
       "      <th>booster</th>\n",
       "      <th>knn</th>\n",
       "      <th>knn_sel</th>\n",
       "    </tr>\n",
       "  </thead>\n",
       "  <tbody>\n",
       "    <tr>\n",
       "      <th>0</th>\n",
       "      <td>0.550634</td>\n",
       "      <td>0.7</td>\n",
       "      <td>0.6</td>\n",
       "    </tr>\n",
       "    <tr>\n",
       "      <th>1</th>\n",
       "      <td>0.046196</td>\n",
       "      <td>0.0</td>\n",
       "      <td>0.0</td>\n",
       "    </tr>\n",
       "    <tr>\n",
       "      <th>2</th>\n",
       "      <td>0.082606</td>\n",
       "      <td>0.0</td>\n",
       "      <td>0.0</td>\n",
       "    </tr>\n",
       "    <tr>\n",
       "      <th>3</th>\n",
       "      <td>0.652086</td>\n",
       "      <td>0.9</td>\n",
       "      <td>1.0</td>\n",
       "    </tr>\n",
       "    <tr>\n",
       "      <th>4</th>\n",
       "      <td>0.397968</td>\n",
       "      <td>0.6</td>\n",
       "      <td>0.2</td>\n",
       "    </tr>\n",
       "  </tbody>\n",
       "</table>\n",
       "</div>"
      ],
      "text/plain": [
       "    booster  knn  knn_sel\n",
       "0  0.550634  0.7      0.6\n",
       "1  0.046196  0.0      0.0\n",
       "2  0.082606  0.0      0.0\n",
       "3  0.652086  0.9      1.0\n",
       "4  0.397968  0.6      0.2"
      ]
     },
     "execution_count": 32,
     "metadata": {},
     "output_type": "execute_result"
    }
   ],
   "source": [
    "meta_test.head()"
   ]
  },
  {
   "cell_type": "code",
   "execution_count": 33,
   "metadata": {},
   "outputs": [
    {
     "data": {
      "text/plain": [
       "booster    0.755696\n",
       "knn        0.688348\n",
       "knn_sel    0.667548\n",
       "dtype: float64"
      ]
     },
     "execution_count": 33,
     "metadata": {},
     "output_type": "execute_result"
    }
   ],
   "source": [
    "from sklearn.metrics import roc_auc_score\n",
    "meta_test.apply(lambda x: roc_auc_score(y_test, x))"
   ]
  },
  {
   "cell_type": "code",
   "execution_count": 34,
   "metadata": {},
   "outputs": [
    {
     "data": {
      "text/plain": [
       "0.75394824713100272"
      ]
     },
     "execution_count": 34,
     "metadata": {},
     "output_type": "execute_result"
    }
   ],
   "source": [
    "meta_clf = GradientBoostingClassifier()\n",
    "meta_clf.fit(meta_train, y_train)\n",
    "\n",
    "roc_auc_score(y_test, meta_clf.predict_proba(meta_test)[:, 1])"
   ]
  },
  {
   "cell_type": "markdown",
   "metadata": {},
   "source": [
    "---"
   ]
  },
  {
   "cell_type": "markdown",
   "metadata": {},
   "source": [
    "## Домашнее Задание. Information value\n",
    "Реализовать функцию подсчета [information value](http://ucanalytics.com/blogs/information-value-and-weight-of-evidencebanking-case). \n",
    "\n",
    "* в функции признак должен разбиваться на `num_buck` бакетов.\n",
    "* для каждого бакета подсчитайте величину\n",
    "$$\n",
    "    \\left(    \\frac{tr}{all\\_tr} -       \\frac{1 - tr}{1 - all\\_tr} \\right) \\cdot\n",
    "    \\left(log(\\frac{tr}{all\\_tr}) -  log(\\frac{1 - tr}{1 - all\\_tr})\\right) \\cdot\n",
    "    \\frac{cnt}{all\\_cnt},\n",
    "$$\n",
    "    * $tr$ - доля целевой переменной в бакете (target rate)\n",
    "    * $all\\_tr$ - доля целевой переменной во всей выборке\n",
    "    * $cnt$ - количество объектов в бакете\n",
    "    * $all_cnt$ - количество обектов во всей выборке\n",
    "    \n",
    "* Если в бакете объекты только одного класса, то будут проблемы со взятием логарифма. Для этого значения $tr$ надо обрезать снизу – 0.001, а сверху 0.999 (hint: [`np.clip`](https://docs.scipy.org/doc/numpy/reference/generated/numpy.clip.html))"
   ]
  },
  {
   "cell_type": "code",
   "execution_count": 35,
   "metadata": {},
   "outputs": [],
   "source": [
    "def information_value(feature, target, num_buck=10):\n",
    "    data = pd.DataFrame({'feature': feature, 'tr': target})\n",
    "    all_tr = np.mean(target)\n",
    "    all_cnt = len(target)\n",
    "    bucket = np.floor((data['feature'].rank(pct=True) * num_buck))\n",
    "    data = data.assign(bucket = pd.Series(bucket).values, cnt = 1)\n",
    "    iv = data.groupby('bucket') \\\n",
    "             .agg({'tr': 'mean', 'cnt': 'sum'}) \\\n",
    "             .assign(tr = lambda x: np.clip(x['tr'], 0.001, 0.999)) \\\n",
    "             .eval('((tr / {all_tr}) - ((1 - tr) / (1 - {all_tr}))) \\\n",
    "               * (log(tr / {all_tr}) - log((1 - tr) / (1 - {all_tr}))) \\\n",
    "               * (cnt / {all_cnt})' \n",
    "             .format(all_tr=all_tr, all_cnt=all_cnt), inplace = False) \\\n",
    "             .sum()\n",
    "    return iv"
   ]
  },
  {
   "cell_type": "markdown",
   "metadata": {},
   "source": [
    "Check our new function:"
   ]
  },
  {
   "cell_type": "code",
   "execution_count": 36,
   "metadata": {},
   "outputs": [],
   "source": [
    "feature = X_train['age']\n",
    "target = y_train"
   ]
  },
  {
   "cell_type": "code",
   "execution_count": 37,
   "metadata": {},
   "outputs": [
    {
     "data": {
      "text/plain": [
       "0.10408301030599967"
      ]
     },
     "execution_count": 37,
     "metadata": {},
     "output_type": "execute_result"
    }
   ],
   "source": [
    "information_value(feature, target)"
   ]
  },
  {
   "cell_type": "markdown",
   "metadata": {},
   "source": [
    "## Домашнее Задание. Важность признаков\n",
    "\n",
    "Для некоторых задач важно уметь отобрать топ самых информативных признаков, выкинув неинформативный хвост.\n",
    "\n",
    "Произвести сравнение различных способов подсчета важности признаков.\n",
    "\n",
    "Способы подсчета важности:\n",
    "* feature importance градиентного бустинга;\n",
    "* information value;\n",
    "* feature importance от random forest.\n",
    "\n",
    "Способ сравнения:\n",
    "* Фиксируйте одну модель по выбору.\n",
    "* В качестве признаков нужно использовать топ-n от итоговых признаков по критерию важности.\n",
    "* Построить зависимость качества на тесте от количества признаков n для каждого способа.\n",
    "\n",
    "**Замечание**\n",
    "\n",
    "Учесть, что первоначальному одному признаку соответствует несколько признаков после one hot кодирования, а в задании под принаком подразумеваются исходные (age, job, ...). При подсчете feature importance от категориальных полей нужно складывать feature importance всех получиных после one hot кодировки бинарных признаков.\n",
    "\n",
    "\n",
    "Для каких способов совпадают наборы признаков для n = 1, 2, 3?  \n",
    "Какой способ дает лучшее качество на тесте при использовании 5 признаков?"
   ]
  },
  {
   "cell_type": "markdown",
   "metadata": {},
   "source": [
    "В качестве модели выбран booster с семинара"
   ]
  },
  {
   "cell_type": "code",
   "execution_count": 38,
   "metadata": {},
   "outputs": [],
   "source": [
    "info = {\n",
    "    'age': ['age'], \n",
    "    'job' : ['job_admin.', 'job_blue-collar', 'job_entrepreneur', 'job_housemaid','job_management', 'job_retired', 'job_self-employed', 'job_services', 'job_student', 'job_technician', 'job_unemployed', 'job_unknown'],\n",
    "    'marital' : ['marital_married', 'marital_single', 'marital_divorced'],\n",
    "    'education' : ['education_tertiary', 'education_primary', 'education_secondary', 'education_unknown'], \n",
    "    'balance' : ['balance'],\n",
    "    'housing' : ['housing_no', 'housing_yes'],\n",
    "    'loan' : ['loan_yes', 'loan_no'], \n",
    "    'contact' : ['contact_unknown', 'contact_cellular', 'contact_telephone'],\n",
    "    'default' : ['default_no', 'default_yes'],\n",
    "    'campaign' : ['campaign'],\n",
    "    'pdays' : ['pdays'],\n",
    "    'previous' : ['previous'],\n",
    "    'poutcome' : ['poutcome_success', 'poutcome_failure', 'poutcome_unknown', 'poutcome_other']\n",
    " }\n",
    "\n",
    "def importance_convertation(rawImportance):\n",
    "    res = pd.Series(np.zeros(len(features)), index = features)\n",
    "    for feature in features:\n",
    "        for rawfeature in info[feature]:\n",
    "            res[feature] += rawImportance[rawfeature]\n",
    "    return res.sort_values(ascending=False)"
   ]
  },
  {
   "cell_type": "code",
   "execution_count": 39,
   "metadata": {},
   "outputs": [],
   "source": [
    "def list_important(ConvImportance, n):\n",
    "    res = []\n",
    "    for i in range(min(n, len(ConvImportance))):\n",
    "        for rawfeature in info[ConvImportance.index[i]]:\n",
    "            res.append(rawfeature)\n",
    "    return res"
   ]
  },
  {
   "cell_type": "code",
   "execution_count": 40,
   "metadata": {},
   "outputs": [],
   "source": [
    "def roc_auc_score_n_features(ConvImp, n, test_model):\n",
    "    top_features = list_important(ConvImp, n)\n",
    "    test_model.fit(X_train[top_features], y_train)\n",
    "    return roc_auc_score(y_test, test_model.predict_proba(X_test[top_features])[:, 1])"
   ]
  },
  {
   "cell_type": "code",
   "execution_count": 41,
   "metadata": {},
   "outputs": [],
   "source": [
    "import matplotlib.pyplot as plt\n",
    "def draw_res(ConvImp, name = None):\n",
    "    experiments = []\n",
    "    for n in range(1, len(features) + 1):\n",
    "        experiments.append([n, roc_auc_score_n_features(ConvImp, n, gs_booster.best_estimator_)])\n",
    "    plt.figure(figsize=(10, 5))\n",
    "    plt.grid(True)\n",
    "    if (name):\n",
    "        plt.title(name)\n",
    "    experiments = np.array(experiments)\n",
    "    plt.plot(experiments[:, 0], experiments[:, 1])\n",
    "    plt.xlabel('number of features')\n",
    "    plt.ylabel('roc_auc_score')\n",
    "    plt.show()"
   ]
  },
  {
   "cell_type": "markdown",
   "metadata": {},
   "source": [
    "Booster importance:"
   ]
  },
  {
   "cell_type": "code",
   "execution_count": 42,
   "metadata": {},
   "outputs": [],
   "source": [
    "predictor = booster.fit(X_train, y_train)\n",
    "boosterImportance = pd.Series(predictor.feature_importances_, index=X_train.columns).sort_values(ascending=False)"
   ]
  },
  {
   "cell_type": "code",
   "execution_count": 43,
   "metadata": {},
   "outputs": [
    {
     "name": "stdout",
     "output_type": "stream",
     "text": [
      "pdays        0.209499\n",
      "balance      0.154190\n",
      "age          0.138839\n",
      "poutcome     0.125293\n",
      "housing      0.067094\n",
      "previous     0.061988\n",
      "job          0.058799\n",
      "campaign     0.055749\n",
      "contact      0.048687\n",
      "loan         0.028469\n",
      "marital      0.026420\n",
      "education    0.024974\n",
      "default      0.000000\n",
      "dtype: float64\n"
     ]
    }
   ],
   "source": [
    "boosterConvImp = importance_convertation(boosterImportance)\n",
    "print(boosterConvImp)"
   ]
  },
  {
   "cell_type": "code",
   "execution_count": 44,
   "metadata": {},
   "outputs": [
    {
     "data": {
      "image/png": "[encoded data removed]",
      "text/plain": [
       "<matplotlib.figure.Figure at 0x7f959977e5c0>"
      ]
     },
     "metadata": {},
     "output_type": "display_data"
    }
   ],
   "source": [
    "draw_res(boosterConvImp, \"Booster feature selection\")"
   ]
  },
  {
   "cell_type": "code",
   "execution_count": 45,
   "metadata": {},
   "outputs": [
    {
     "data": {
      "text/plain": [
       "0.71303878624254879"
      ]
     },
     "execution_count": 45,
     "metadata": {},
     "output_type": "execute_result"
    }
   ],
   "source": [
    "roc_auc_score_n_features(boosterConvImp, 5, gs_booster.best_estimator_)"
   ]
  },
  {
   "cell_type": "markdown",
   "metadata": {},
   "source": [
    "Information value importance:"
   ]
  },
  {
   "cell_type": "code",
   "execution_count": 46,
   "metadata": {},
   "outputs": [],
   "source": [
    "IVfeatures = np.array([information_value(X_train[feature], y_train) for feature in X_train.columns])\n",
    "IVImportance = pd.Series(IVfeatures, index=X_train.columns).sort_values(ascending=False)"
   ]
  },
  {
   "cell_type": "code",
   "execution_count": 47,
   "metadata": {},
   "outputs": [
    {
     "name": "stdout",
     "output_type": "stream",
     "text": [
      "poutcome     0.761036\n",
      "contact      0.500098\n",
      "housing      0.389798\n",
      "pdays        0.297551\n",
      "previous     0.238408\n",
      "job          0.177164\n",
      "balance      0.132096\n",
      "loan         0.112579\n",
      "age          0.104083\n",
      "marital      0.091875\n",
      "campaign     0.078190\n",
      "education    0.070932\n",
      "default      0.015676\n",
      "dtype: float64\n"
     ]
    }
   ],
   "source": [
    "IVConvImp = importance_convertation(IVImportance)\n",
    "print(IVConvImp)"
   ]
  },
  {
   "cell_type": "code",
   "execution_count": 48,
   "metadata": {},
   "outputs": [
    {
     "data": {
      "image/png": "[encoded data removed]",
      "text/plain": [
       "<matplotlib.figure.Figure at 0x7f9593c7e080>"
      ]
     },
     "metadata": {},
     "output_type": "display_data"
    }
   ],
   "source": [
    "draw_res(IVConvImp, \"Information value feature selection\")"
   ]
  },
  {
   "cell_type": "code",
   "execution_count": 49,
   "metadata": {},
   "outputs": [
    {
     "data": {
      "text/plain": [
       "0.71991830824524872"
      ]
     },
     "execution_count": 49,
     "metadata": {},
     "output_type": "execute_result"
    }
   ],
   "source": [
    "roc_auc_score_n_features(IVConvImp, 5, gs_booster.best_estimator_)"
   ]
  },
  {
   "cell_type": "markdown",
   "metadata": {},
   "source": [
    "ExtraTrees(= Random forest) Importance:"
   ]
  },
  {
   "cell_type": "code",
   "execution_count": 50,
   "metadata": {},
   "outputs": [],
   "source": [
    "from sklearn.ensemble import ExtraTreesClassifier, RandomForestClassifier, AdaBoostClassifier\n",
    "forest = RandomForestClassifier(n_estimators=50, random_state=0).fit(X_train, y_train)\n",
    "forestImportance = pd.Series(forest.feature_importances_, index=X_train.columns).sort_values(ascending=False)"
   ]
  },
  {
   "cell_type": "code",
   "execution_count": 51,
   "metadata": {},
   "outputs": [
    {
     "name": "stdout",
     "output_type": "stream",
     "text": [
      "balance      0.303628\n",
      "age          0.216755\n",
      "job          0.089299\n",
      "poutcome     0.082986\n",
      "campaign     0.081699\n",
      "pdays        0.061585\n",
      "education    0.039177\n",
      "previous     0.028135\n",
      "marital      0.028050\n",
      "housing      0.025773\n",
      "contact      0.024583\n",
      "loan         0.015100\n",
      "default      0.003231\n",
      "dtype: float64\n"
     ]
    }
   ],
   "source": [
    "forestConvImp = importance_convertation(forestImportance)\n",
    "print(forestConvImp)"
   ]
  },
  {
   "cell_type": "code",
   "execution_count": 52,
   "metadata": {},
   "outputs": [
    {
     "data": {
      "image/png": "[encoded data removed]",
      "text/plain": [
       "<matplotlib.figure.Figure at 0x7f9593c02470>"
      ]
     },
     "metadata": {},
     "output_type": "display_data"
    }
   ],
   "source": [
    "draw_res(forestConvImp, \"Random forest feature selection\")"
   ]
  },
  {
   "cell_type": "code",
   "execution_count": 53,
   "metadata": {},
   "outputs": [
    {
     "data": {
      "text/plain": [
       "0.7042716046179357"
      ]
     },
     "execution_count": 53,
     "metadata": {},
     "output_type": "execute_result"
    }
   ],
   "source": [
    "roc_auc_score_n_features(forestConvImp, 5, gs_booster.best_estimator_)"
   ]
  },
  {
   "cell_type": "markdown",
   "metadata": {},
   "source": [
    "* Смысла писать при каких n совпали наборы я не вижу, поскольку все это зависит от текущего сплита на трейн и тест, к тому же топ IV кардинально отличается от топа boostera и деревьев. В топ 3 как у бустера, так и у деревьев входит balance и age.\n",
    "* Наилучшее качество при пяти параметрах стабильно дает information value."
   ]
  },
  {
   "cell_type": "markdown",
   "metadata": {},
   "source": [
    "## Домашнее Задание. Stacking.\n",
    "\n",
    "Попробовать стэкинг различных наборов моделей:\n",
    "* Одну и туже модель с разными гиперпараметрами параметрами (например, бустинг с разным количеством деревьев);\n",
    "* Разнообразные модели.\n",
    "\n",
    "Попробовать различные мета классификаторы и простое усреднение.\n",
    "\n",
    "Получилось ли за счет стэкинга улучшить качество?\n",
    "Какое метод дает большее качество на тесте?"
   ]
  },
  {
   "cell_type": "markdown",
   "metadata": {},
   "source": [
    "Начнем того что очень сложно понять что такое stacking просто по семинару, поэтому воспользовался несколькими ссылками, которые на мой взгляд многое хорошо объясняют, пожалуй лучшая вот:\n",
    "\n",
    "https://www.kaggle.com/arthurtok/introduction-to-ensembling-stacking-in-python?scriptVersionId=936973"
   ]
  },
  {
   "cell_type": "raw",
   "metadata": {},
   "source": [
    "Напишем пару функций, чтоб было удобнее учить:"
   ]
  },
  {
   "cell_type": "code",
   "execution_count": 54,
   "metadata": {},
   "outputs": [],
   "source": [
    "from tqdm import tqdm\n",
    "def mean_meta(clf, X_train, y_train, X_test, n_splits = 3, n = 50, start_log = 1.2, end_log = 1.8):\n",
    "    meta_train = 0\n",
    "    meta_test = 0\n",
    "    for n_estimators in tqdm(np.array(np.logspace(start_log, end_log, num = n), dtype = int)):\n",
    "        cv = StratifiedKFold(n_splits=n_splits, random_state=42, shuffle=True)\n",
    "        predictor = 0\n",
    "        if (clf == 'booster'):\n",
    "            predictor = GradientBoostingClassifier(n_estimators = n_estimators)\n",
    "        elif (clf == 'rforest'):\n",
    "            predictor = RandomForestClassifier(n_estimators = n_estimators)\n",
    "        elif (clf == 'etrees'):\n",
    "            predictor = ExtraTreesClassifier(n_estimators = n_estimators)\n",
    "        elif (clf == 'knn'):\n",
    "            predictor = KNeighborsClassifier(n_neighbors = n_estimators)\n",
    "        elif (clf == 'AdaBoost'):\n",
    "            predictor = AdaBoostClassifier(n_estimators = n_estimators)\n",
    "        if (predictor != 0):\n",
    "            if (type(meta_train) == int):\n",
    "                meta_train, meta_test = meta_feature(predictor, X_train, y_train, X_test, cv, 0)\n",
    "            else:\n",
    "                train, test = meta_feature(predictor, X_train, y_train, X_test, cv, 0)\n",
    "                meta_train += train\n",
    "                meta_test += test\n",
    "    return meta_train / n, meta_test / n"
   ]
  },
  {
   "cell_type": "code",
   "execution_count": 55,
   "metadata": {},
   "outputs": [],
   "source": [
    "from tqdm import tqdm\n",
    "def stack_meta(clf, X_train, y_train, X_test, n_splits = 3, n = 50, start_log = 1.2, end_log = 1.8):\n",
    "    meta_train = 0\n",
    "    meta_test = 0\n",
    "    for n_estimators in tqdm(np.array(np.logspace(start_log, end_log, num = n), dtype = int)):\n",
    "        cv = StratifiedKFold(n_splits = n_splits, random_state=42, shuffle=True)\n",
    "        predictor = 0\n",
    "        if (clf == 'booster'):\n",
    "            predictor = GradientBoostingClassifier(n_estimators = n_estimators)\n",
    "        elif (clf == 'rforest'):\n",
    "            predictor = RandomForestClassifier(n_estimators = n_estimators)\n",
    "        elif (clf == 'etrees'):\n",
    "            predictor = ExtraTreesClassifier(n_estimators = n_estimators)\n",
    "        elif (clf == 'knn'):\n",
    "            predictor = KNeighborsClassifier(n_neighbors = n_estimators)\n",
    "        elif (clf == 'AdaBoost'):\n",
    "            predictor = AdaBoostClassifier(n_estimators = n_estimators)\n",
    "        if (predictor != 0 ):\n",
    "            if (type(meta_train) == int):\n",
    "                meta_train, meta_test = meta_feature(predictor, X_train, y_train, X_test, cv, 0)\n",
    "            else:\n",
    "                train, test = meta_feature(predictor, X_train, y_train, X_test, cv, 0)\n",
    "                meta_train = np.vstack((train, meta_train))\n",
    "                meta_test = np.vstack((test, meta_test))\n",
    "    return meta_train, meta_test"
   ]
  },
  {
   "cell_type": "markdown",
   "metadata": {},
   "source": [
    "Попробуем использовать среднее от разных алгоритмов и настекать их:"
   ]
  },
  {
   "cell_type": "code",
   "execution_count": 56,
   "metadata": {},
   "outputs": [],
   "source": [
    "meta_train = []\n",
    "meta_test = []"
   ]
  },
  {
   "cell_type": "code",
   "execution_count": 57,
   "metadata": {},
   "outputs": [
    {
     "name": "stderr",
     "output_type": "stream",
     "text": [
      "100%|██████████| 10/10 [00:20<00:00,  2.06s/it]\n",
      "100%|██████████| 10/10 [00:39<00:00,  3.98s/it]\n",
      "100%|██████████| 10/10 [01:03<00:00,  6.38s/it]\n",
      "100%|██████████| 10/10 [01:30<00:00,  9.04s/it]\n"
     ]
    }
   ],
   "source": [
    "splitter = [1.3, 1.6, 1.9, 2.1, 2.23]\n",
    "for i in range(len(splitter) - 1):\n",
    "    train, test = mean_meta('booster', X_train, y_train, X_test, n = 10, start_log = splitter[i], end_log = splitter[i + 1])\n",
    "    meta_train.append(train)\n",
    "    meta_test.append(test)"
   ]
  },
  {
   "cell_type": "code",
   "execution_count": 58,
   "metadata": {},
   "outputs": [
    {
     "name": "stderr",
     "output_type": "stream",
     "text": [
      "100%|██████████| 10/10 [00:24<00:00,  2.48s/it]\n",
      "100%|██████████| 10/10 [00:41<00:00,  4.17s/it]\n",
      "100%|██████████| 10/10 [00:53<00:00,  5.34s/it]\n"
     ]
    }
   ],
   "source": [
    "splitter = [1.35, 1.7, 1.85, 1.92]\n",
    "for i in range(len(splitter) - 1):\n",
    "    train, test = mean_meta('rforest', X_train, y_train, X_test, n = 10, start_log = splitter[i], end_log = splitter[i + 1])\n",
    "    meta_train.append(train)\n",
    "    meta_test.append(test)"
   ]
  },
  {
   "cell_type": "code",
   "execution_count": 59,
   "metadata": {},
   "outputs": [
    {
     "name": "stderr",
     "output_type": "stream",
     "text": [
      "100%|██████████| 10/10 [00:26<00:00,  2.70s/it]\n",
      "100%|██████████| 10/10 [00:44<00:00,  4.48s/it]\n",
      "100%|██████████| 10/10 [00:57<00:00,  5.80s/it]\n"
     ]
    }
   ],
   "source": [
    "splitter = [1.35, 1.7, 1.85, 1.92]\n",
    "for i in range(len(splitter) - 1):\n",
    "    train, test = mean_meta('etrees', X_train, y_train, X_test, n = 10, start_log = splitter[i], end_log = splitter[i + 1])\n",
    "    meta_train.append(train)\n",
    "    meta_test.append(test)"
   ]
  },
  {
   "cell_type": "code",
   "execution_count": 60,
   "metadata": {},
   "outputs": [
    {
     "name": "stderr",
     "output_type": "stream",
     "text": [
      "100%|██████████| 10/10 [00:14<00:00,  1.50s/it]\n",
      "100%|██████████| 10/10 [00:16<00:00,  1.64s/it]\n"
     ]
    }
   ],
   "source": [
    "splitter = [0.02, 0.5, 0.9]\n",
    "for i in range(len(splitter) - 1):\n",
    "    train, test = mean_meta('knn', X_train, y_train, X_test, n = 10, start_log = splitter[i], end_log = splitter[i + 1])\n",
    "    meta_train.append(train)\n",
    "    meta_test.append(test)"
   ]
  },
  {
   "cell_type": "code",
   "execution_count": 61,
   "metadata": {},
   "outputs": [
    {
     "name": "stderr",
     "output_type": "stream",
     "text": [
      "100%|██████████| 10/10 [00:15<00:00,  1.51s/it]\n",
      "100%|██████████| 10/10 [00:24<00:00,  2.46s/it]\n",
      "100%|██████████| 10/10 [00:30<00:00,  3.07s/it]\n"
     ]
    }
   ],
   "source": [
    "splitter = [1.35, 1.7, 1.85, 1.92]\n",
    "for i in range(len(splitter) - 1):\n",
    "    train, test = mean_meta('AdaBoost', X_train, y_train, X_test, n = 10, start_log = splitter[i], end_log = splitter[i + 1])\n",
    "    meta_train.append(train)\n",
    "    meta_test.append(test)"
   ]
  },
  {
   "cell_type": "code",
   "execution_count": 62,
   "metadata": {},
   "outputs": [],
   "source": [
    "meta_train = np.array(meta_train)\n",
    "meta_test = np.array(meta_test)"
   ]
  },
  {
   "cell_type": "markdown",
   "metadata": {},
   "source": [
    "Будем использовать мета фичи двумя популярными способами: \n",
    "* Бустером (всегда подойдет)\n",
    "* Линейной моделью (логично, чтоб она взяла с какими-то хорошими весами хорошие модели, а плохие наоборот занулила)"
   ]
  },
  {
   "cell_type": "code",
   "execution_count": 63,
   "metadata": {},
   "outputs": [
    {
     "data": {
      "text/plain": [
       "0.75239770857864896"
      ]
     },
     "execution_count": 63,
     "metadata": {},
     "output_type": "execute_result"
    }
   ],
   "source": [
    "meta_clf = GradientBoostingClassifier()\n",
    "meta_clf.fit(meta_train.T, y_train)\n",
    "\n",
    "roc_auc_score(y_test, meta_clf.predict_proba(meta_test.T)[:, 1])"
   ]
  },
  {
   "cell_type": "code",
   "execution_count": 64,
   "metadata": {},
   "outputs": [
    {
     "data": {
      "text/plain": [
       "0.75446350907944726"
      ]
     },
     "execution_count": 64,
     "metadata": {},
     "output_type": "execute_result"
    }
   ],
   "source": [
    "from sklearn.linear_model import SGDRegressor, Ridge\n",
    "meta_clf = SGDRegressor()\n",
    "meta_clf.fit(meta_train.T, y_train)\n",
    "roc_auc_score(y_test, meta_clf.predict(meta_test.T))"
   ]
  },
  {
   "cell_type": "markdown",
   "metadata": {},
   "source": [
    "Попробуем не считать среднее, а просто стекать:"
   ]
  },
  {
   "cell_type": "code",
   "execution_count": 65,
   "metadata": {},
   "outputs": [
    {
     "name": "stderr",
     "output_type": "stream",
     "text": [
      "100%|██████████| 20/20 [02:34<00:00,  7.72s/it]\n",
      "100%|██████████| 10/10 [00:42<00:00,  4.23s/it]\n",
      "100%|██████████| 10/10 [00:47<00:00,  4.75s/it]\n",
      "100%|██████████| 10/10 [00:15<00:00,  1.53s/it]\n",
      "100%|██████████| 10/10 [00:25<00:00,  2.59s/it]\n"
     ]
    }
   ],
   "source": [
    "res = stack_meta('booster', X_train, y_train, X_test, n = 20, start_log = 2, end_log = 2.2)\n",
    "meta_train = res[0]\n",
    "meta_test = res[1]\n",
    "res = stack_meta('rforest', X_train, y_train, X_test, n = 10, start_log = 1.7, end_log = 1.9)\n",
    "meta_train = np.vstack((meta_train, res[0]))\n",
    "meta_test = np.vstack((meta_test, res[1]))\n",
    "res = stack_meta('etrees', X_train, y_train, X_test, n = 10, start_log = 1.7, end_log = 1.9)\n",
    "meta_train = np.vstack((meta_train, res[0]))\n",
    "meta_test = np.vstack((meta_test, res[1]))\n",
    "res = stack_meta('knn', X_train, y_train, X_test, n = 10, start_log = 0.1, end_log = 0.9)\n",
    "meta_train = np.vstack((meta_train, res[0]))\n",
    "meta_test = np.vstack((meta_test, res[1]))\n",
    "res = stack_meta('AdaBoost', X_train, y_train, X_test, n = 10, start_log = 1.7, end_log = 1.9)\n",
    "meta_train = np.vstack((meta_train, res[0]))\n",
    "meta_test = np.vstack((meta_test, res[1]))"
   ]
  },
  {
   "cell_type": "code",
   "execution_count": 66,
   "metadata": {},
   "outputs": [
    {
     "data": {
      "text/plain": [
       "0.75281603243076001"
      ]
     },
     "execution_count": 66,
     "metadata": {},
     "output_type": "execute_result"
    }
   ],
   "source": [
    "meta_clf = GradientBoostingClassifier()\n",
    "meta_clf.fit(meta_train.T, y_train)\n",
    "\n",
    "roc_auc_score(y_test, meta_clf.predict_proba(meta_test.T)[:, 1])"
   ]
  },
  {
   "cell_type": "code",
   "execution_count": 67,
   "metadata": {},
   "outputs": [
    {
     "data": {
      "text/plain": [
       "0.75609477942536851"
      ]
     },
     "execution_count": 67,
     "metadata": {},
     "output_type": "execute_result"
    }
   ],
   "source": [
    "from sklearn.linear_model import SGDRegressor\n",
    "meta_clf = SGDRegressor()\n",
    "meta_clf.fit(meta_train.T, y_train)\n",
    "roc_auc_score(y_test, meta_clf.predict(meta_test.T))"
   ]
  },
  {
   "cell_type": "markdown",
   "metadata": {},
   "source": [
    "Результат достигнут! Мы лучше, чем модель с семинара."
   ]
  },
  {
   "cell_type": "markdown",
   "metadata": {},
   "source": [
    "Выше мы попробовали натренить и настекать много так себе моделей. И посмотреть вдруг они все вместе дадут хороший результат.\n",
    "Попробуем наоборот несколько хорошо обученных (как это делали товарищи из туториала с титаником):"
   ]
  },
  {
   "cell_type": "code",
   "execution_count": 85,
   "metadata": {},
   "outputs": [],
   "source": [
    "# Random forest\n",
    "rf_params = {\n",
    "    'n_jobs': -1,\n",
    "    'n_estimators': 500,\n",
    "     #'warm_start': True, \n",
    "     #'max_features': 0.2,\n",
    "    'max_depth': 6,\n",
    "    'min_samples_leaf': 2,\n",
    "    'max_features' : 'sqrt',\n",
    "    'verbose': 0\n",
    "}\n",
    "Rf = RandomForestClassifier(**rf_params)\n",
    "\n",
    "# Extra Trees\n",
    "et_params = {\n",
    "    'n_jobs': -1,\n",
    "    'n_estimators':500,\n",
    "    #'max_features': 0.5,\n",
    "    'max_depth': 8,\n",
    "    'min_samples_leaf': 2,\n",
    "    'verbose': 0\n",
    "}\n",
    "Et = ExtraTreesClassifier(**et_params)\n",
    "\n",
    "# AdaBoost\n",
    "ada_params = {\n",
    "    'n_estimators': 500,\n",
    "    'learning_rate' : 0.75\n",
    "}\n",
    "\n",
    "ada = AdaBoostClassifier(**ada_params)\n",
    "\n",
    "# Gradient Boosting\n",
    "gb_params = {\n",
    "    'n_estimators': 500,\n",
    "     #'max_features': 0.2,\n",
    "    'max_depth': 5,\n",
    "    'min_samples_leaf': 2,\n",
    "    'verbose': 0\n",
    "}\n",
    "\n",
    "gb = GradientBoostingClassifier(**gb_params)\n",
    "\n",
    "# Support Vector Classifier\n",
    "from sklearn.svm import SVC\n",
    "svc_params = {\n",
    "    'kernel' : 'linear',\n",
    "    'C' : 0.025\n",
    "    }\n",
    "svc = SVC(**svc_params)"
   ]
  },
  {
   "cell_type": "code",
   "execution_count": 93,
   "metadata": {},
   "outputs": [
    {
     "name": "stderr",
     "output_type": "stream",
     "text": [
      "[Parallel(n_jobs=-1)]: Done   3 out of   3 | elapsed:    6.5s finished\n",
      "[Parallel(n_jobs=-1)]: Done   3 out of   3 | elapsed:    6.9s finished\n",
      "[Parallel(n_jobs=-1)]: Done   3 out of   3 | elapsed:    9.7s finished\n",
      "[Parallel(n_jobs=-1)]: Done   3 out of   3 | elapsed:   31.1s finished\n",
      "[Parallel(n_jobs=-1)]: Done   3 out of   3 | elapsed:    3.5s finished\n",
      "[Parallel(n_jobs=-1)]: Done   3 out of   3 | elapsed:   10.0s finished\n"
     ]
    }
   ],
   "source": [
    "cv = StratifiedKFold(n_splits = 3, random_state=42, shuffle=True)\n",
    "meta_train, meta_test = meta_feature(Rf, X_train, y_train, X_test, cv, 1)\n",
    "\n",
    "cv = StratifiedKFold(n_splits = 3, random_state=42, shuffle=True)\n",
    "res = meta_feature(Et, X_train, y_train, X_test, cv, 1)\n",
    "meta_train = np.vstack((meta_train, res[0]))\n",
    "meta_test = np.vstack((meta_test, res[1]))\n",
    "\n",
    "cv = StratifiedKFold(n_splits = 3, random_state=42, shuffle=True)\n",
    "res = meta_feature(ada, X_train, y_train, X_test, cv, 1)\n",
    "meta_train = np.vstack((meta_train, res[0]))\n",
    "meta_test = np.vstack((meta_test, res[1]))\n",
    "\n",
    "cv = StratifiedKFold(n_splits = 3, random_state=42, shuffle=True)\n",
    "res = meta_feature(gb, X_train, y_train, X_test, cv, 1)\n",
    "meta_train = np.vstack((meta_train, res[0]))\n",
    "meta_test = np.vstack((meta_test, res[1]))\n",
    "\n",
    "cv = StratifiedKFold(n_splits = 3, random_state=42, shuffle=True)\n",
    "res = meta_feature(booster, X_train, y_train, X_test, cv, 1)\n",
    "meta_train = np.vstack((meta_train, res[0]))\n",
    "meta_test = np.vstack((meta_test, res[1]))\n",
    "\n",
    "cv = StratifiedKFold(n_splits = 3, random_state=42, shuffle=True)\n",
    "res = meta_feature(knn_sel, X_train, y_train, X_test, cv, 1)\n",
    "meta_train = np.vstack((meta_train, res[0]))\n",
    "meta_test = np.vstack((meta_test, res[1]))\n",
    "\n",
    "# оно к сожалению не работает, а хотелось бы попробовать\n",
    "# res = meta_feature_predict(svc, X_train, y_train, X_test, cv, 1)\n",
    "# meta_train = np.vstack((meta_train, res[0]))\n",
    "# meta_test = np.vstack((meta_test, res[1]))"
   ]
  },
  {
   "cell_type": "code",
   "execution_count": 94,
   "metadata": {},
   "outputs": [
    {
     "data": {
      "text/plain": [
       "0.75274001052703188"
      ]
     },
     "execution_count": 94,
     "metadata": {},
     "output_type": "execute_result"
    }
   ],
   "source": [
    "meta_clf = GradientBoostingClassifier()\n",
    "meta_clf.fit(meta_train.T, y_train)\n",
    "\n",
    "roc_auc_score(y_test, meta_clf.predict_proba(meta_test.T)[:, 1])"
   ]
  },
  {
   "cell_type": "code",
   "execution_count": 96,
   "metadata": {},
   "outputs": [
    {
     "data": {
      "text/plain": [
       "0.764979027930974"
      ]
     },
     "execution_count": 96,
     "metadata": {},
     "output_type": "execute_result"
    }
   ],
   "source": [
    "meta_clf = SGDRegressor()\n",
    "meta_clf.fit(meta_train.T, y_train)\n",
    "roc_auc_score(y_test, meta_clf.predict(meta_test.T))"
   ]
  },
  {
   "cell_type": "markdown",
   "metadata": {},
   "source": [
    "Еще один хороший результат."
   ]
  },
  {
   "cell_type": "markdown",
   "metadata": {},
   "source": [
    "Попробуем сделать много тяжелых деревьев с примерно одинаковыми параметрами:"
   ]
  },
  {
   "cell_type": "code",
   "execution_count": 89,
   "metadata": {},
   "outputs": [],
   "source": [
    "from random import randint\n",
    "def stack_trees(X_train, y_train, X_test, n_splits = 3, n = 100, start = 400, end = 600):\n",
    "    meta_train = 0\n",
    "    meta_test = 0\n",
    "    rf_params = {\n",
    "        'n_jobs': -1,\n",
    "        'n_estimators': 500, \n",
    "         #'max_features': 0.2,\n",
    "        'max_depth': 6,\n",
    "        'min_samples_leaf': 2,\n",
    "        'max_features' : 'sqrt',\n",
    "        'verbose': 0\n",
    "    }\n",
    "    for n_estimators in tqdm(range(n)):\n",
    "        cv = StratifiedKFold(n_splits = n_splits, random_state=42, shuffle=True)\n",
    "        rf_params['n_estimators'] = randint(start, end)\n",
    "        predictor = RandomForestClassifier(**rf_params)\n",
    "        if (type(meta_train) == int):\n",
    "            meta_train, meta_test = meta_feature(predictor, X_train, y_train, X_test, cv, 0)\n",
    "        else:\n",
    "            train, test = meta_feature(predictor, X_train, y_train, X_test, cv, 0)\n",
    "            meta_train = np.vstack((train, meta_train))\n",
    "            meta_test = np.vstack((test, meta_test))\n",
    "    return meta_train, meta_test"
   ]
  },
  {
   "cell_type": "code",
   "execution_count": 90,
   "metadata": {},
   "outputs": [
    {
     "name": "stderr",
     "output_type": "stream",
     "text": [
      "100%|██████████| 50/50 [08:10<00:00,  9.80s/it]\n"
     ]
    }
   ],
   "source": [
    "meta_train, meta_test = stack_trees(X_train, y_train, X_test, n = 50)"
   ]
  },
  {
   "cell_type": "code",
   "execution_count": 91,
   "metadata": {},
   "outputs": [
    {
     "data": {
      "text/plain": [
       "0.74620687951343923"
      ]
     },
     "execution_count": 91,
     "metadata": {},
     "output_type": "execute_result"
    }
   ],
   "source": [
    "meta_clf = GradientBoostingClassifier()\n",
    "meta_clf.fit(meta_train.T, y_train)\n",
    "\n",
    "roc_auc_score(y_test, meta_clf.predict_proba(meta_test.T)[:, 1])"
   ]
  },
  {
   "cell_type": "code",
   "execution_count": 92,
   "metadata": {},
   "outputs": [
    {
     "data": {
      "text/plain": [
       "0.74813170444790433"
      ]
     },
     "execution_count": 92,
     "metadata": {},
     "output_type": "execute_result"
    }
   ],
   "source": [
    "meta_clf = SGDRegressor()\n",
    "meta_clf.fit(meta_train.T, y_train)\n",
    "roc_auc_score(y_test, meta_clf.predict(meta_test.T))"
   ]
  },
  {
   "cell_type": "markdown",
   "metadata": {},
   "source": [
    "Как мы видим, они переобучаются, и лучше использовать разнообразные методы."
   ]
  },
  {
   "cell_type": "markdown",
   "metadata": {},
   "source": [
    "Есть еще вариант делать мета параметры от мета параметров... Но пожалуй нет смысла настолько заморачиваться."
   ]
  }
 ],
 "metadata": {
  "kernelspec": {
   "display_name": "Python 3",
   "language": "python",
   "name": "python3"
  },
  "language_info": {
   "codemirror_mode": {
    "name": "ipython",
    "version": 3
   },
   "file_extension": ".py",
   "mimetype": "text/x-python",
   "name": "python",
   "nbconvert_exporter": "python",
   "pygments_lexer": "ipython3",
   "version": "3.5.2"
  }
 },
 "nbformat": 4,
 "nbformat_minor": 2
}
