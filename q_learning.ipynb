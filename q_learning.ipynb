{
 "cells": [
  {
   "cell_type": "code",
   "execution_count": 1,
   "metadata": {},
   "outputs": [],
   "source": [
    "#!pip install gym"
   ]
  },
  {
   "cell_type": "code",
   "execution_count": 2,
   "metadata": {},
   "outputs": [],
   "source": [
    "import gym\n",
    "import numpy as np"
   ]
  },
  {
   "cell_type": "markdown",
   "metadata": {},
   "source": [
    "https://gym.openai.com/"
   ]
  },
  {
   "cell_type": "code",
   "execution_count": 3,
   "metadata": {},
   "outputs": [
    {
     "name": "stdout",
     "output_type": "stream",
     "text": [
      "+---------+\n",
      "|R: | : :\u001b[35mG\u001b[0m|\n",
      "| : : : : |\n",
      "| : : : : |\n",
      "| | : |\u001b[43m \u001b[0m: |\n",
      "|\u001b[34;1mY\u001b[0m| : |B: |\n",
      "+---------+\n",
      "\n"
     ]
    }
   ],
   "source": [
    "# Инициализация среды\n",
    "env = gym.make(\"Taxi-v2\")\n",
    "state = env.reset()\n",
    "env.render()"
   ]
  },
  {
   "cell_type": "code",
   "execution_count": 4,
   "metadata": {},
   "outputs": [
    {
     "data": {
      "text/plain": [
       "369"
      ]
     },
     "execution_count": 4,
     "metadata": {},
     "output_type": "execute_result"
    }
   ],
   "source": [
    "state"
   ]
  },
  {
   "cell_type": "code",
   "execution_count": 5,
   "metadata": {},
   "outputs": [
    {
     "data": {
      "text/plain": [
       "(Discrete(6), Discrete(500))"
      ]
     },
     "execution_count": 5,
     "metadata": {},
     "output_type": "execute_result"
    }
   ],
   "source": [
    "env.action_space, env.observation_space"
   ]
  },
  {
   "cell_type": "code",
   "execution_count": 6,
   "metadata": {},
   "outputs": [
    {
     "name": "stdout",
     "output_type": "stream",
     "text": [
      "+---------+\n",
      "|R: | : :\u001b[35mG\u001b[0m|\n",
      "| : : : : |\n",
      "| : : : : |\n",
      "| | : | :\u001b[43m \u001b[0m|\n",
      "|\u001b[34;1mY\u001b[0m| : |B: |\n",
      "+---------+\n",
      "  (East)\n"
     ]
    }
   ],
   "source": [
    "# Пример шага\n",
    "env.step(2)\n",
    "env.render()"
   ]
  },
  {
   "cell_type": "code",
   "execution_count": 7,
   "metadata": {},
   "outputs": [
    {
     "data": {
      "text/plain": [
       "(389, -10, False, {'prob': 1.0})"
      ]
     },
     "execution_count": 7,
     "metadata": {},
     "output_type": "execute_result"
    }
   ],
   "source": [
    "state, reward, done, info = env.step(env.action_space.sample())\n",
    "state, reward, done, info"
   ]
  },
  {
   "cell_type": "code",
   "execution_count": 8,
   "metadata": {},
   "outputs": [
    {
     "name": "stdout",
     "output_type": "stream",
     "text": [
      "2358\n",
      "-9213\n"
     ]
    }
   ],
   "source": [
    "# Случайные действия\n",
    "state = env.reset()\n",
    "total_reward, counter = 0, 0\n",
    "reward = None\n",
    "while reward != 20:\n",
    "    state, reward, done, info = env.step(env.action_space.sample())\n",
    "    counter += 1\n",
    "    total_reward += reward\n",
    "print(counter)\n",
    "print(total_reward)"
   ]
  },
  {
   "cell_type": "code",
   "execution_count": 9,
   "metadata": {},
   "outputs": [
    {
     "name": "stdout",
     "output_type": "stream",
     "text": [
      "Episode    1 Total Reward: -812 counter: 200\n",
      "Episode  100 Total Reward: -127 counter: 76\n",
      "Episode  200 Total Reward:   10 counter: 11\n",
      "Episode  300 Total Reward:  -49 counter: 52\n",
      "Episode  400 Total Reward:   13 counter: 8\n",
      "Episode  500 Total Reward:    6 counter: 15\n",
      "Episode  600 Total Reward:   11 counter: 10\n",
      "Episode  700 Total Reward:    8 counter: 13\n",
      "Episode  800 Total Reward:   10 counter: 11\n",
      "Episode  900 Total Reward:   12 counter: 9\n",
      "Episode 1000 Total Reward:    7 counter: 14\n",
      "Episode 1100 Total Reward:   13 counter: 8\n",
      "Episode 1200 Total Reward:   12 counter: 9\n",
      "Episode 1300 Total Reward:    7 counter: 14\n",
      "Episode 1400 Total Reward:    8 counter: 13\n",
      "Episode 1500 Total Reward:   10 counter: 11\n",
      "Episode 1600 Total Reward:    7 counter: 14\n",
      "Episode 1700 Total Reward:    9 counter: 12\n",
      "Episode 1800 Total Reward:    9 counter: 12\n",
      "Episode 1900 Total Reward:    9 counter: 12\n",
      "Episode 2000 Total Reward:    9 counter: 12\n"
     ]
    }
   ],
   "source": [
    "# Опишем агента с табличным Q-обучением\n",
    "Q = np.zeros([env.observation_space.n, env.action_space.n])\n",
    "gamma = 1\n",
    "epsilon = 1\n",
    "epsilon_decay = 0.99\n",
    "alpha = 0.5\n",
    "rewards_log, counters_log = [], []\n",
    "\n",
    "for episode in range(1,2001):\n",
    "    done = False\n",
    "    total_reward, counter = 0, 0\n",
    "    state = env.reset()\n",
    "    while done != True:\n",
    "        # выбираем действие эпсилон-жадно\n",
    "        if np.random.rand() < epsilon:\n",
    "            action = env.action_space.sample()\n",
    "        else:\n",
    "            action = np.argmax(Q[state])\n",
    "            \n",
    "        # делаем шаг\n",
    "        state2, reward, done, info = env.step(action)\n",
    "        \n",
    "        # дообучаем Q-значение\n",
    "        if done:\n",
    "            Q[state,action] += alpha * (reward - Q[state,action])\n",
    "        else:\n",
    "            Q[state,action] += alpha * (reward + gamma * np.max(Q[state2]) - Q[state,action])\n",
    "            \n",
    "        total_reward += reward\n",
    "        counter += 1\n",
    "        state = state2\n",
    "        \n",
    "    if episode % 100 == 0 or episode == 1:\n",
    "        print('Episode {:4d} Total Reward: {:4d} counter: {}'.format(episode,total_reward,counter))\n",
    "    rewards_log.append(total_reward)\n",
    "    counters_log.append(counter)\n",
    "    epsilon *= epsilon_decay"
   ]
  },
  {
   "cell_type": "code",
   "execution_count": 10,
   "metadata": {},
   "outputs": [],
   "source": [
    "def moving_average(a, n=10) :\n",
    "    ret = np.cumsum(a, dtype=float)\n",
    "    ret[n:] = ret[n:] - ret[:-n]\n",
    "    return ret[n - 1:] / n"
   ]
  },
  {
   "cell_type": "code",
   "execution_count": 11,
   "metadata": {},
   "outputs": [
    {
     "data": {
      "image/png": "[encoded data removed]",
      "text/plain": [
       "<matplotlib.figure.Figure at 0x7f352c0a67f0>"
      ]
     },
     "metadata": {},
     "output_type": "display_data"
    },
    {
     "data": {
      "image/png": "[encoded data removed]",
      "text/plain": [
       "<matplotlib.figure.Figure at 0x7f35277709e8>"
      ]
     },
     "metadata": {},
     "output_type": "display_data"
    }
   ],
   "source": [
    "import matplotlib.pyplot as plt \n",
    "%matplotlib inline\n",
    "plt.plot(moving_average(rewards_log))\n",
    "plt.title('total reward')\n",
    "plt.show()\n",
    "plt.plot(moving_average(counters_log))\n",
    "plt.title('steps count')\n",
    "plt.show()"
   ]
  },
  {
   "cell_type": "code",
   "execution_count": 12,
   "metadata": {},
   "outputs": [
    {
     "data": {
      "text/plain": [
       "(8.56, 12.44)"
      ]
     },
     "execution_count": 12,
     "metadata": {},
     "output_type": "execute_result"
    }
   ],
   "source": [
    "sum(rewards_log[-100:])/100, sum(counters_log[-100:])/100"
   ]
  },
  {
   "cell_type": "code",
   "execution_count": 13,
   "metadata": {},
   "outputs": [],
   "source": [
    "from time import sleep\n",
    "from IPython.display import clear_output"
   ]
  },
  {
   "cell_type": "code",
   "execution_count": 14,
   "metadata": {},
   "outputs": [
    {
     "name": "stdout",
     "output_type": "stream",
     "text": [
      "+---------+\n",
      "|R: | : :G|\n",
      "| : : : : |\n",
      "| : : : : |\n",
      "| | : | : |\n",
      "|Y| : |\u001b[35m\u001b[42mB\u001b[0m\u001b[0m: |\n",
      "+---------+\n",
      "  (Dropoff)\n",
      "\n"
     ]
    }
   ],
   "source": [
    "# Визуализация стратегии агента\n",
    "state = env.reset()\n",
    "done = False\n",
    "\n",
    "env.render()\n",
    "sleep(0.5)\n",
    "print(flush=True)\n",
    "\n",
    "while done != True:\n",
    "    action = np.argmax(Q[state])\n",
    "    state2, reward, done, info = env.step(action)\n",
    "    clear_output()\n",
    "    env.render()\n",
    "    print(flush=True)\n",
    "    sleep(0.5)\n",
    "    state = state2   "
   ]
  },
  {
   "cell_type": "code",
   "execution_count": 15,
   "metadata": {},
   "outputs": [],
   "source": [
    "env = gym.make('Blackjack-v0')"
   ]
  },
  {
   "cell_type": "code",
   "execution_count": 16,
   "metadata": {},
   "outputs": [
    {
     "data": {
      "text/plain": [
       "(Tuple(Discrete(32), Discrete(11), Discrete(2)), Discrete(2))"
      ]
     },
     "execution_count": 16,
     "metadata": {},
     "output_type": "execute_result"
    }
   ],
   "source": [
    "env.observation_space, env.action_space"
   ]
  },
  {
   "cell_type": "code",
   "execution_count": 17,
   "metadata": {},
   "outputs": [
    {
     "data": {
      "text/plain": [
       "[32, 11, 2]"
      ]
     },
     "execution_count": 17,
     "metadata": {},
     "output_type": "execute_result"
    }
   ],
   "source": [
    "n_obs = [space.n for space in env.observation_space.spaces]\n",
    "n_obs"
   ]
  },
  {
   "cell_type": "code",
   "execution_count": 18,
   "metadata": {},
   "outputs": [
    {
     "data": {
      "text/plain": [
       "(17, 6, False)"
      ]
     },
     "execution_count": 18,
     "metadata": {},
     "output_type": "execute_result"
    }
   ],
   "source": [
    "env.reset()"
   ]
  },
  {
   "cell_type": "code",
   "execution_count": 19,
   "metadata": {},
   "outputs": [
    {
     "data": {
      "text/plain": [
       "((17, 6, False), 1.0, True, {})"
      ]
     },
     "execution_count": 19,
     "metadata": {},
     "output_type": "execute_result"
    }
   ],
   "source": [
    "env.step(0)"
   ]
  },
  {
   "cell_type": "code",
   "execution_count": 20,
   "metadata": {},
   "outputs": [
    {
     "name": "stdout",
     "output_type": "stream",
     "text": [
      "Episode     1 Total Reward: -1 counter: 1\n",
      "Episode  1000 Total Reward: -1 counter: 1\n",
      "Episode  2000 Total Reward:  0 counter: 3\n",
      "Episode  3000 Total Reward: -1 counter: 1\n",
      "Episode  4000 Total Reward: -1 counter: 1\n",
      "Episode  5000 Total Reward:  1 counter: 1\n",
      "Episode  6000 Total Reward: -1 counter: 1\n",
      "Episode  7000 Total Reward: -1 counter: 2\n",
      "Episode  8000 Total Reward:  1 counter: 4\n",
      "Episode  9000 Total Reward: -1 counter: 1\n",
      "Episode 10000 Total Reward:  1 counter: 2\n",
      "Episode 11000 Total Reward:  0 counter: 3\n",
      "Episode 12000 Total Reward: -1 counter: 1\n",
      "Episode 13000 Total Reward:  1 counter: 1\n",
      "Episode 14000 Total Reward: -1 counter: 1\n",
      "Episode 15000 Total Reward:  1 counter: 2\n",
      "Episode 16000 Total Reward: -1 counter: 1\n",
      "Episode 17000 Total Reward:  0 counter: 1\n",
      "Episode 18000 Total Reward:  1 counter: 1\n",
      "Episode 19000 Total Reward: -1 counter: 1\n",
      "Episode 20000 Total Reward:  1 counter: 2\n",
      "Episode 21000 Total Reward:  1 counter: 1\n",
      "Episode 22000 Total Reward:  1 counter: 1\n",
      "Episode 23000 Total Reward: -1 counter: 3\n",
      "Episode 24000 Total Reward:  1 counter: 1\n",
      "Episode 25000 Total Reward:  1 counter: 1\n",
      "Episode 26000 Total Reward: -1 counter: 3\n",
      "Episode 27000 Total Reward: -1 counter: 2\n",
      "Episode 28000 Total Reward: -1 counter: 1\n",
      "Episode 29000 Total Reward: -1 counter: 1\n",
      "Episode 30000 Total Reward:  0 counter: 1\n",
      "Episode 31000 Total Reward:  1 counter: 1\n",
      "Episode 32000 Total Reward: -1 counter: 1\n",
      "Episode 33000 Total Reward:  1 counter: 2\n",
      "Episode 34000 Total Reward:  1 counter: 2\n",
      "Episode 35000 Total Reward: -1 counter: 1\n",
      "Episode 36000 Total Reward:  1 counter: 2\n",
      "Episode 37000 Total Reward: -1 counter: 1\n",
      "Episode 38000 Total Reward: -1 counter: 1\n",
      "Episode 39000 Total Reward: -1 counter: 1\n",
      "Episode 40000 Total Reward: -1 counter: 3\n",
      "Episode 41000 Total Reward:  1 counter: 3\n",
      "Episode 42000 Total Reward: -1 counter: 1\n",
      "Episode 43000 Total Reward: -1 counter: 3\n",
      "Episode 44000 Total Reward:  0 counter: 1\n",
      "Episode 45000 Total Reward: -1 counter: 2\n",
      "Episode 46000 Total Reward: -1 counter: 2\n",
      "Episode 47000 Total Reward:  1 counter: 1\n",
      "Episode 48000 Total Reward:  1 counter: 1\n",
      "Episode 49000 Total Reward: -1 counter: 1\n",
      "Episode 50000 Total Reward:  1 counter: 2\n"
     ]
    }
   ],
   "source": [
    "# Опишем агента с табличным Q-обучением\n",
    "Q = np.zeros(n_obs + [env.action_space.n]) \n",
    "total_reward = 0\n",
    "gamma = 1\n",
    "epsilon = 3\n",
    "epsilon_decay = 0.9997\n",
    "alpha = 0.4\n",
    "rewards_log = []\n",
    "counters_log = []\n",
    "for episode in range(1,50001):\n",
    "    done = False\n",
    "    total_reward, counter = 0,0\n",
    "    state = env.reset()\n",
    "    while done != True:\n",
    "        state_tup = tuple([int(i) for i in state])\n",
    "        \n",
    "        # выбираем действие эпсилон-жадно\n",
    "        if np.random.rand() < epsilon:\n",
    "            action = env.action_space.sample()\n",
    "        else:            \n",
    "            action = np.argmax(Q[state_tup])\n",
    "        \n",
    "        # делаем шаг\n",
    "        state2, reward, done, info = env.step(action)\n",
    "        state2_tup = tuple([int(i) for i in state2])\n",
    "        \n",
    "        # дообучаем Q-значение\n",
    "        if done:\n",
    "            Q[state_tup][action] += alpha * (reward - Q[state_tup][action])\n",
    "        else:\n",
    "            Q[state_tup][action] += alpha * (reward + gamma * np.max(Q[state2_tup]) - Q[state_tup][action])\n",
    "            \n",
    "        total_reward += reward\n",
    "        counter += 1\n",
    "        state = state2   \n",
    "        \n",
    "    if episode % 1000 == 0 or episode == 1:\n",
    "        print('Episode {:5d} Total Reward: {:2d} counter: {}'.format(episode,int(total_reward),counter))\n",
    "    rewards_log.append(total_reward)\n",
    "    counters_log.append(counter)\n",
    "    epsilon *= epsilon_decay"
   ]
  },
  {
   "cell_type": "code",
   "execution_count": 21,
   "metadata": {},
   "outputs": [
    {
     "data": {
      "image/png": "[encoded data removed]",
      "text/plain": [
       "<matplotlib.figure.Figure at 0x7f35276f6d30>"
      ]
     },
     "metadata": {},
     "output_type": "display_data"
    },
    {
     "data": {
      "image/png": "[encoded data removed]",
      "text/plain": [
       "<matplotlib.figure.Figure at 0x7f352765e898>"
      ]
     },
     "metadata": {},
     "output_type": "display_data"
    }
   ],
   "source": [
    "plt.plot(moving_average(rewards_log, 1000))\n",
    "plt.title('total reward')\n",
    "plt.show()\n",
    "plt.plot(moving_average(counters_log, 1000))\n",
    "plt.title('steps count')\n",
    "plt.show()"
   ]
  }
 ],
 "metadata": {
  "kernelspec": {
   "display_name": "Python 3",
   "language": "python",
   "name": "python3"
  },
  "language_info": {
   "codemirror_mode": {
    "name": "ipython",
    "version": 3
   },
   "file_extension": ".py",
   "mimetype": "text/x-python",
   "name": "python",
   "nbconvert_exporter": "python",
   "pygments_lexer": "ipython3",
   "version": "3.5.2"
  }
 },
 "nbformat": 4,
 "nbformat_minor": 2
}
