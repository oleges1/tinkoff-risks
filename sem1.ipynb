{
 "cells": [
  {
   "cell_type": "markdown",
   "metadata": {},
   "source": [
    "# Калибровка вероятности дефолта\n",
    "\n",
    "Для принятия решения важно не только учметь разделять между собой \"хороших\" клиентов от \"плохих\", но и достаточно точно прогнозировать вероятность начтупления дефолта. Когда качество разделения модели достаточно сильное, но попадание в реальные риски плохое, можно производить калибровку - несложное преобразование прогноза вероятности дефолта. Данная задача также часто возникает, когда появляется новый продукт или новый сегмент слабо представленный в обучающей выборке, и  возможность перестраивания модели отсутствует.\n",
    "\n",
    "В данном ноутбуке мы рассмотрим несколько подходов к калибровки модели."
   ]
  },
  {
   "cell_type": "markdown",
   "metadata": {},
   "source": [
    "Загрузим сначала выборку с данными."
   ]
  },
  {
   "cell_type": "code",
   "execution_count": 6,
   "metadata": {},
   "outputs": [
    {
     "data": {
      "text/html": [
       "<div>\n",
       "<style scoped>\n",
       "    .dataframe tbody tr th:only-of-type {\n",
       "        vertical-align: middle;\n",
       "    }\n",
       "\n",
       "    .dataframe tbody tr th {\n",
       "        vertical-align: top;\n",
       "    }\n",
       "\n",
       "    .dataframe thead th {\n",
       "        text-align: right;\n",
       "    }\n",
       "</style>\n",
       "<table border=\"1\" class=\"dataframe\">\n",
       "  <thead>\n",
       "    <tr style=\"text-align: right;\">\n",
       "      <th></th>\n",
       "      <th>pd</th>\n",
       "      <th>default_flg</th>\n",
       "      <th>category_feature</th>\n",
       "    </tr>\n",
       "  </thead>\n",
       "  <tbody>\n",
       "    <tr>\n",
       "      <th>0</th>\n",
       "      <td>0.108868</td>\n",
       "      <td>0</td>\n",
       "      <td>E</td>\n",
       "    </tr>\n",
       "    <tr>\n",
       "      <th>1</th>\n",
       "      <td>0.146724</td>\n",
       "      <td>0</td>\n",
       "      <td>E</td>\n",
       "    </tr>\n",
       "    <tr>\n",
       "      <th>2</th>\n",
       "      <td>0.094514</td>\n",
       "      <td>0</td>\n",
       "      <td>E</td>\n",
       "    </tr>\n",
       "    <tr>\n",
       "      <th>3</th>\n",
       "      <td>0.092973</td>\n",
       "      <td>0</td>\n",
       "      <td>C</td>\n",
       "    </tr>\n",
       "    <tr>\n",
       "      <th>4</th>\n",
       "      <td>0.265591</td>\n",
       "      <td>1</td>\n",
       "      <td>E</td>\n",
       "    </tr>\n",
       "  </tbody>\n",
       "</table>\n",
       "</div>"
      ],
      "text/plain": [
       "         pd  default_flg category_feature\n",
       "0  0.108868            0                E\n",
       "1  0.146724            0                E\n",
       "2  0.094514            0                E\n",
       "3  0.092973            0                C\n",
       "4  0.265591            1                E"
      ]
     },
     "execution_count": 6,
     "metadata": {},
     "output_type": "execute_result"
    }
   ],
   "source": [
    "import pandas as pd\n",
    "import numpy as np\n",
    "%matplotlib inline\n",
    "\n",
    "url_calibration = 'https://www.dropbox.com/s/a5tlpq8njxg5d33/calibration.csv?dl=1'\n",
    "df = pd.read_csv(url_calibration)\n",
    "df.head()"
   ]
  },
  {
   "cell_type": "code",
   "execution_count": 2,
   "metadata": {},
   "outputs": [
    {
     "data": {
      "text/plain": [
       "(30000, 3)"
      ]
     },
     "execution_count": 2,
     "metadata": {},
     "output_type": "execute_result"
    }
   ],
   "source": [
    "df.shape"
   ]
  },
  {
   "cell_type": "markdown",
   "metadata": {},
   "source": [
    "В данной выборке присутствует 30000 наблюдений, и три поля."
   ]
  },
  {
   "cell_type": "markdown",
   "metadata": {},
   "source": [
    "# Визуализация качества прогноза\n",
    "\n",
    "Выборка разбивается на равные по количеству бакеты в зависимости от значения прогноза. В каждом бакете считается средний прогноз и частота наступления дефолта."
   ]
  },
  {
   "cell_type": "code",
   "execution_count": 3,
   "metadata": {},
   "outputs": [],
   "source": [
    "def plot_gain_chart(target, prob, num_buck=10):    \n",
    "    data = pd.DataFrame({'target': target, 'predict': prob})\n",
    "    buckets = pd.qcut(prob, q=num_buck)\n",
    "    aggregated = data.groupby(buckets).agg({'target': 'mean', 'predict': 'mean'})\n",
    "    aggregated = aggregated.sort_index(ascending=False).reset_index(drop=True)\n",
    "    aggregated.plot(kind='bar', grid=True)"
   ]
  },
  {
   "cell_type": "code",
   "execution_count": 4,
   "metadata": {},
   "outputs": [
    {
     "data": {
      "image/png": "[encoded data removed]",
      "text/plain": [
       "<matplotlib.figure.Figure at 0x7ff30316a7f0>"
      ]
     },
     "metadata": {},
     "output_type": "display_data"
    }
   ],
   "source": [
    "plot_gain_chart(df['default_flg'], df['pd'])"
   ]
  },
  {
   "cell_type": "markdown",
   "metadata": {},
   "source": [
    "По данной диаграмме видно, что среди бакетов [0, 1, 2] реальная частота дефолтов оказывается выше, чем средний прогноз.  "
   ]
  },
  {
   "cell_type": "markdown",
   "metadata": {},
   "source": [
    "К массиву `df['pd']` можно применять арифметические преобразования, которые применяются поэлементно."
   ]
  },
  {
   "cell_type": "code",
   "execution_count": 5,
   "metadata": {},
   "outputs": [
    {
     "data": {
      "image/png": "[encoded data removed]",
      "text/plain": [
       "<matplotlib.figure.Figure at 0x7ff300837d30>"
      ]
     },
     "metadata": {},
     "output_type": "display_data"
    }
   ],
   "source": [
    "plot_gain_chart(df['default_flg'], 2 * df['pd'] - 0.1)"
   ]
  },
  {
   "cell_type": "markdown",
   "metadata": {},
   "source": [
    "Так же можно применять и любые преобразования из из numpy, которые так же поэлементные. Например, `np.exp()` или `np.sin()`."
   ]
  },
  {
   "cell_type": "markdown",
   "metadata": {},
   "source": [
    "# Калибровка логистической регрессией"
   ]
  },
  {
   "cell_type": "markdown",
   "metadata": {},
   "source": [
    "В логистической регрессии присутствует сигмоидное преобразование $\\sigma(x) = \\frac{1}{1+exp(-x)}$.  "
   ]
  },
  {
   "cell_type": "markdown",
   "metadata": {},
   "source": [
    "**Задание. Напишите функцию логистического преобразования, которое является обратным к сигмоидному.**"
   ]
  },
  {
   "cell_type": "code",
   "execution_count": 1,
   "metadata": {},
   "outputs": [],
   "source": [
    "import numpy as np\n",
    "def sigmoid(x):\n",
    "    return 1 / (1 + np.exp(-x))\n",
    "\n",
    "def logit(x):    \n",
    "    return np.log(x / (1 - x))"
   ]
  },
  {
   "cell_type": "markdown",
   "metadata": {},
   "source": [
    "Создадим новый столбец `logit` в таблице"
   ]
  },
  {
   "cell_type": "code",
   "execution_count": 11,
   "metadata": {},
   "outputs": [],
   "source": [
    "df['logit'] = logit(df['pd'])"
   ]
  },
  {
   "cell_type": "markdown",
   "metadata": {},
   "source": [
    "**Задание. Нарисуйте теперь диаграмму рассеивания между `logit` и `pd`. Точки должны лечь на часть сигмоиды.**"
   ]
  },
  {
   "cell_type": "code",
   "execution_count": 17,
   "metadata": {
    "scrolled": true
   },
   "outputs": [
    {
     "data": {
      "image/png": "[encoded data removed]",
      "text/plain": [
       "<matplotlib.figure.Figure at 0x7ff30075df98>"
      ]
     },
     "metadata": {},
     "output_type": "display_data"
    }
   ],
   "source": [
    "df.plot(x='logit', y='pd', kind='scatter', grid=True);"
   ]
  },
  {
   "cell_type": "markdown",
   "metadata": {},
   "source": [
    "Произведем калибровку, обучив логистическую регрессию на одном признаке `df['logit']`.  \n",
    "В scikit-learn алгоритм машинного обучения выглядят следующим образом:"
   ]
  },
  {
   "cell_type": "code",
   "execution_count": 18,
   "metadata": {},
   "outputs": [],
   "source": [
    "from sklearn.linear_model import LogisticRegression\n",
    "\n",
    "classifier = LogisticRegression()                                      # Определяем объект - классификатор\n",
    "classifier.fit( df[['logit']], df['default_flg'] );                    # Производим обучение, вызвав метод fit"
   ]
  },
  {
   "cell_type": "markdown",
   "metadata": {},
   "source": [
    "После обучения (запуска метода `.fit()`), у обекта `classifier` появляются атрибуты с коэффициентами"
   ]
  },
  {
   "cell_type": "code",
   "execution_count": 19,
   "metadata": {},
   "outputs": [
    {
     "data": {
      "text/plain": [
       "array([ 1.99754727])"
      ]
     },
     "execution_count": 19,
     "metadata": {},
     "output_type": "execute_result"
    }
   ],
   "source": [
    "classifier.intercept_  # свободный член"
   ]
  },
  {
   "cell_type": "code",
   "execution_count": 20,
   "metadata": {},
   "outputs": [
    {
     "data": {
      "text/plain": [
       "array([[ 1.99923055]])"
      ]
     },
     "execution_count": 20,
     "metadata": {},
     "output_type": "execute_result"
    }
   ],
   "source": [
    "classifier.coef_       # коэффициенты перед признаками, в нашем случае всего одно число, так как признак один"
   ]
  },
  {
   "cell_type": "markdown",
   "metadata": {},
   "source": [
    "Посмотрим как теперь выглядит график gain chart."
   ]
  },
  {
   "cell_type": "code",
   "execution_count": 81,
   "metadata": {},
   "outputs": [
    {
     "data": {
      "image/png": "[encoded data removed]",
      "text/plain": [
       "<matplotlib.figure.Figure at 0x7ff2f2e9a780>"
      ]
     },
     "metadata": {},
     "output_type": "display_data"
    }
   ],
   "source": [
    "logistic_calibration = classifier.predict_proba(df[['logit']])[:, 1]\n",
    "\n",
    "plot_gain_chart(df['default_flg'], logistic_calibration)"
   ]
  },
  {
   "cell_type": "markdown",
   "metadata": {},
   "source": [
    "Столбики с прогнозом и с частотой дефолтов стали гораздо ближе.  \n",
    "Помимо визуализации полезно так же считать формальные метрики.  \n",
    "**Задание. Сравните между собой по разным метрикам точность двух прогнозов. Объясните результаты.**"
   ]
  },
  {
   "cell_type": "code",
   "execution_count": 82,
   "metadata": {},
   "outputs": [
    {
     "data": {
      "text/html": [
       "<div>\n",
       "<style scoped>\n",
       "    .dataframe tbody tr th:only-of-type {\n",
       "        vertical-align: middle;\n",
       "    }\n",
       "\n",
       "    .dataframe tbody tr th {\n",
       "        vertical-align: top;\n",
       "    }\n",
       "\n",
       "    .dataframe thead th {\n",
       "        text-align: right;\n",
       "    }\n",
       "</style>\n",
       "<table border=\"1\" class=\"dataframe\">\n",
       "  <thead>\n",
       "    <tr style=\"text-align: right;\">\n",
       "      <th></th>\n",
       "      <th>MSE</th>\n",
       "      <th>AUC</th>\n",
       "      <th>log_loss</th>\n",
       "    </tr>\n",
       "  </thead>\n",
       "  <tbody>\n",
       "    <tr>\n",
       "      <th>pd</th>\n",
       "      <td>0.121001</td>\n",
       "      <td>0.746103</td>\n",
       "      <td>0.392546</td>\n",
       "    </tr>\n",
       "    <tr>\n",
       "      <th>logistic_calibration</th>\n",
       "      <td>0.115498</td>\n",
       "      <td>0.746103</td>\n",
       "      <td>0.376995</td>\n",
       "    </tr>\n",
       "  </tbody>\n",
       "</table>\n",
       "</div>"
      ],
      "text/plain": [
       "                           MSE       AUC  log_loss\n",
       "pd                    0.121001  0.746103  0.392546\n",
       "logistic_calibration  0.115498  0.746103  0.376995"
      ]
     },
     "execution_count": 82,
     "metadata": {},
     "output_type": "execute_result"
    }
   ],
   "source": [
    "from sklearn.metrics import roc_auc_score, log_loss, mean_squared_error\n",
    "\n",
    "metrics = pd.DataFrame()  # можно создавать пустую таблицу, заполняя её позже\n",
    "\n",
    "def add_metrics(metrics, target, predict, name):\n",
    "    # для обращения к ячейкам есть метод .loc[название строки, название столбца]\n",
    "    metrics.loc[name, 'MSE'     ] = mean_squared_error (target, predict)\n",
    "    metrics.loc[name, 'AUC'     ] = roc_auc_score      (target, predict)\n",
    "    metrics.loc[name, 'log_loss'] = log_loss           (target, predict)\n",
    "\n",
    "\n",
    "add_metrics(metrics, df['default_flg'], df['pd'], 'pd')\n",
    "\n",
    "add_metrics(metrics, df['default_flg'], logistic_calibration, 'logistic_calibration')\n",
    "\n",
    "metrics"
   ]
  },
  {
   "cell_type": "markdown",
   "metadata": {},
   "source": [
    "**Задание. Посчитать метрики для тестовой выборки**"
   ]
  },
  {
   "cell_type": "code",
   "execution_count": 83,
   "metadata": {},
   "outputs": [
    {
     "data": {
      "text/html": [
       "<div>\n",
       "<style scoped>\n",
       "    .dataframe tbody tr th:only-of-type {\n",
       "        vertical-align: middle;\n",
       "    }\n",
       "\n",
       "    .dataframe tbody tr th {\n",
       "        vertical-align: top;\n",
       "    }\n",
       "\n",
       "    .dataframe thead th {\n",
       "        text-align: right;\n",
       "    }\n",
       "</style>\n",
       "<table border=\"1\" class=\"dataframe\">\n",
       "  <thead>\n",
       "    <tr style=\"text-align: right;\">\n",
       "      <th></th>\n",
       "      <th>MSE</th>\n",
       "      <th>AUC</th>\n",
       "      <th>log_loss</th>\n",
       "    </tr>\n",
       "  </thead>\n",
       "  <tbody>\n",
       "    <tr>\n",
       "      <th>pd</th>\n",
       "      <td>0.120079</td>\n",
       "      <td>0.74249</td>\n",
       "      <td>0.390851</td>\n",
       "    </tr>\n",
       "    <tr>\n",
       "      <th>logistic_calibration</th>\n",
       "      <td>0.115102</td>\n",
       "      <td>0.74249</td>\n",
       "      <td>0.377082</td>\n",
       "    </tr>\n",
       "  </tbody>\n",
       "</table>\n",
       "</div>"
      ],
      "text/plain": [
       "                           MSE      AUC  log_loss\n",
       "pd                    0.120079  0.74249  0.390851\n",
       "logistic_calibration  0.115102  0.74249  0.377082"
      ]
     },
     "execution_count": 83,
     "metadata": {},
     "output_type": "execute_result"
    }
   ],
   "source": [
    "metrics_test = pd.DataFrame()\n",
    "\n",
    "url_calibration_test = 'https://www.dropbox.com/s/s7bpm3tbzhqtvau/calibration_test.csv?dl=1'\n",
    "df_test = pd.read_csv(url_calibration_test)\n",
    "\n",
    "add_metrics(metrics_test, df_test['default_flg'], df_test['pd'], 'pd')\n",
    "df_test['logit'] = logit(df_test['pd'])\n",
    "logistic_calibration = classifier.predict_proba(df_test[['logit']])[:, 1]\n",
    "\n",
    "add_metrics(metrics_test, df_test['default_flg'], logistic_calibration, 'logistic_calibration')\n",
    "metrics_test"
   ]
  },
  {
   "cell_type": "markdown",
   "metadata": {},
   "source": [
    "# Калибровка линейной регрессией"
   ]
  },
  {
   "cell_type": "markdown",
   "metadata": {},
   "source": [
    "Воспользуемся теперь линейной регрессией.  \n",
    "Интерфейс обучения модели практически такой же.  "
   ]
  },
  {
   "cell_type": "code",
   "execution_count": 84,
   "metadata": {},
   "outputs": [
    {
     "data": {
      "text/plain": [
       "LinearRegression(copy_X=True, fit_intercept=True, n_jobs=1, normalize=False)"
      ]
     },
     "execution_count": 84,
     "metadata": {},
     "output_type": "execute_result"
    }
   ],
   "source": [
    "from sklearn.linear_model import LinearRegression\n",
    "\n",
    "regressor = LinearRegression()\n",
    "regressor.fit(df[['pd']], df['default_flg'])"
   ]
  },
  {
   "cell_type": "markdown",
   "metadata": {},
   "source": [
    "**Задание. Посчитайте метрики для прогноза `pd_linear`. Обясните результаты.**"
   ]
  },
  {
   "cell_type": "code",
   "execution_count": 85,
   "metadata": {},
   "outputs": [
    {
     "data": {
      "text/html": [
       "<div>\n",
       "<style scoped>\n",
       "    .dataframe tbody tr th:only-of-type {\n",
       "        vertical-align: middle;\n",
       "    }\n",
       "\n",
       "    .dataframe tbody tr th {\n",
       "        vertical-align: top;\n",
       "    }\n",
       "\n",
       "    .dataframe thead th {\n",
       "        text-align: right;\n",
       "    }\n",
       "</style>\n",
       "<table border=\"1\" class=\"dataframe\">\n",
       "  <thead>\n",
       "    <tr style=\"text-align: right;\">\n",
       "      <th></th>\n",
       "      <th>MSE</th>\n",
       "      <th>AUC</th>\n",
       "      <th>log_loss</th>\n",
       "    </tr>\n",
       "  </thead>\n",
       "  <tbody>\n",
       "    <tr>\n",
       "      <th>pd</th>\n",
       "      <td>0.121001</td>\n",
       "      <td>0.746103</td>\n",
       "      <td>0.392546</td>\n",
       "    </tr>\n",
       "    <tr>\n",
       "      <th>logistic_calibration</th>\n",
       "      <td>0.115498</td>\n",
       "      <td>0.746103</td>\n",
       "      <td>0.376995</td>\n",
       "    </tr>\n",
       "    <tr>\n",
       "      <th>pd_linear</th>\n",
       "      <td>0.115812</td>\n",
       "      <td>0.746103</td>\n",
       "      <td>0.397966</td>\n",
       "    </tr>\n",
       "  </tbody>\n",
       "</table>\n",
       "</div>"
      ],
      "text/plain": [
       "                           MSE       AUC  log_loss\n",
       "pd                    0.121001  0.746103  0.392546\n",
       "logistic_calibration  0.115498  0.746103  0.376995\n",
       "pd_linear             0.115812  0.746103  0.397966"
      ]
     },
     "execution_count": 85,
     "metadata": {},
     "output_type": "execute_result"
    }
   ],
   "source": [
    "# <вставить код>\n",
    "predict = regressor.predict(df[['pd']])\n",
    "add_metrics(metrics, df['default_flg'], predict, 'pd_linear')\n",
    "metrics"
   ]
  },
  {
   "cell_type": "code",
   "execution_count": 86,
   "metadata": {},
   "outputs": [
    {
     "data": {
      "text/html": [
       "<div>\n",
       "<style scoped>\n",
       "    .dataframe tbody tr th:only-of-type {\n",
       "        vertical-align: middle;\n",
       "    }\n",
       "\n",
       "    .dataframe tbody tr th {\n",
       "        vertical-align: top;\n",
       "    }\n",
       "\n",
       "    .dataframe thead th {\n",
       "        text-align: right;\n",
       "    }\n",
       "</style>\n",
       "<table border=\"1\" class=\"dataframe\">\n",
       "  <thead>\n",
       "    <tr style=\"text-align: right;\">\n",
       "      <th></th>\n",
       "      <th>MSE</th>\n",
       "      <th>AUC</th>\n",
       "      <th>log_loss</th>\n",
       "    </tr>\n",
       "  </thead>\n",
       "  <tbody>\n",
       "    <tr>\n",
       "      <th>pd</th>\n",
       "      <td>0.120079</td>\n",
       "      <td>0.74249</td>\n",
       "      <td>0.390851</td>\n",
       "    </tr>\n",
       "    <tr>\n",
       "      <th>logistic_calibration</th>\n",
       "      <td>0.115102</td>\n",
       "      <td>0.74249</td>\n",
       "      <td>0.377082</td>\n",
       "    </tr>\n",
       "    <tr>\n",
       "      <th>pd_linear</th>\n",
       "      <td>0.115397</td>\n",
       "      <td>0.74249</td>\n",
       "      <td>0.417158</td>\n",
       "    </tr>\n",
       "  </tbody>\n",
       "</table>\n",
       "</div>"
      ],
      "text/plain": [
       "                           MSE      AUC  log_loss\n",
       "pd                    0.120079  0.74249  0.390851\n",
       "logistic_calibration  0.115102  0.74249  0.377082\n",
       "pd_linear             0.115397  0.74249  0.417158"
      ]
     },
     "execution_count": 86,
     "metadata": {},
     "output_type": "execute_result"
    }
   ],
   "source": [
    "# <вставить код>\n",
    "predict = regressor.predict(df_test[['pd']])\n",
    "add_metrics(metrics_test, df_test['default_flg'], predict, 'pd_linear')\n",
    "metrics_test"
   ]
  },
  {
   "cell_type": "markdown",
   "metadata": {},
   "source": [
    "# Калибровка [Isotonic regression](http://scikit-learn.org/stable/modules/isotonic.html)\n",
    "\n",
    "<img src=\"http://scikit-learn.org/stable/_images/sphx_glr_plot_isotonic_regression_0011.png\" width=500>"
   ]
  },
  {
   "cell_type": "markdown",
   "metadata": {},
   "source": [
    "Логистическая и линейная регрессия находят зависимость между наборами признаков и целевой переменной, isotonic зависимость между всего одним признаком и целевой переменной. Но за-то поиск происходит в достаточно большом классе функций - все возможные монотонные преобразования.  \n",
    "\n",
    "Из за наличия только одного признака в метод `.fit()` и `.predict()` нужно подавать одномерный массив с признаком, а не двумерную матрицу, как в прошлых моделях.\n",
    "\n",
    "**Задание. Произведите калибровку isotonic regression и посчитайте метрики. Объясните результаты.**"
   ]
  },
  {
   "cell_type": "code",
   "execution_count": 87,
   "metadata": {},
   "outputs": [
    {
     "data": {
      "text/html": [
       "<div>\n",
       "<style scoped>\n",
       "    .dataframe tbody tr th:only-of-type {\n",
       "        vertical-align: middle;\n",
       "    }\n",
       "\n",
       "    .dataframe tbody tr th {\n",
       "        vertical-align: top;\n",
       "    }\n",
       "\n",
       "    .dataframe thead th {\n",
       "        text-align: right;\n",
       "    }\n",
       "</style>\n",
       "<table border=\"1\" class=\"dataframe\">\n",
       "  <thead>\n",
       "    <tr style=\"text-align: right;\">\n",
       "      <th></th>\n",
       "      <th>MSE</th>\n",
       "      <th>AUC</th>\n",
       "      <th>log_loss</th>\n",
       "    </tr>\n",
       "  </thead>\n",
       "  <tbody>\n",
       "    <tr>\n",
       "      <th>pd</th>\n",
       "      <td>0.121001</td>\n",
       "      <td>0.746103</td>\n",
       "      <td>0.392546</td>\n",
       "    </tr>\n",
       "    <tr>\n",
       "      <th>logistic_calibration</th>\n",
       "      <td>0.115498</td>\n",
       "      <td>0.746103</td>\n",
       "      <td>0.376995</td>\n",
       "    </tr>\n",
       "    <tr>\n",
       "      <th>pd_linear</th>\n",
       "      <td>0.115812</td>\n",
       "      <td>0.746103</td>\n",
       "      <td>0.397966</td>\n",
       "    </tr>\n",
       "    <tr>\n",
       "      <th>pd_isotonator</th>\n",
       "      <td>0.115050</td>\n",
       "      <td>0.747632</td>\n",
       "      <td>0.375388</td>\n",
       "    </tr>\n",
       "  </tbody>\n",
       "</table>\n",
       "</div>"
      ],
      "text/plain": [
       "                           MSE       AUC  log_loss\n",
       "pd                    0.121001  0.746103  0.392546\n",
       "logistic_calibration  0.115498  0.746103  0.376995\n",
       "pd_linear             0.115812  0.746103  0.397966\n",
       "pd_isotonator         0.115050  0.747632  0.375388"
      ]
     },
     "execution_count": 87,
     "metadata": {},
     "output_type": "execute_result"
    }
   ],
   "source": [
    "from sklearn.isotonic import IsotonicRegression\n",
    "isotonator = IsotonicRegression(out_of_bounds='clip')\n",
    "isotonator.fit(df['pd'], df['default_flg'])\n",
    "predict = isotonator.predict(df['pd'])\n",
    "add_metrics(metrics, df['default_flg'], predict, 'pd_isotonator')\n",
    "metrics"
   ]
  },
  {
   "cell_type": "code",
   "execution_count": 88,
   "metadata": {},
   "outputs": [
    {
     "data": {
      "text/html": [
       "<div>\n",
       "<style scoped>\n",
       "    .dataframe tbody tr th:only-of-type {\n",
       "        vertical-align: middle;\n",
       "    }\n",
       "\n",
       "    .dataframe tbody tr th {\n",
       "        vertical-align: top;\n",
       "    }\n",
       "\n",
       "    .dataframe thead th {\n",
       "        text-align: right;\n",
       "    }\n",
       "</style>\n",
       "<table border=\"1\" class=\"dataframe\">\n",
       "  <thead>\n",
       "    <tr style=\"text-align: right;\">\n",
       "      <th></th>\n",
       "      <th>MSE</th>\n",
       "      <th>AUC</th>\n",
       "      <th>log_loss</th>\n",
       "    </tr>\n",
       "  </thead>\n",
       "  <tbody>\n",
       "    <tr>\n",
       "      <th>pd</th>\n",
       "      <td>0.120079</td>\n",
       "      <td>0.742490</td>\n",
       "      <td>0.390851</td>\n",
       "    </tr>\n",
       "    <tr>\n",
       "      <th>logistic_calibration</th>\n",
       "      <td>0.115102</td>\n",
       "      <td>0.742490</td>\n",
       "      <td>0.377082</td>\n",
       "    </tr>\n",
       "    <tr>\n",
       "      <th>pd_linear</th>\n",
       "      <td>0.115397</td>\n",
       "      <td>0.742490</td>\n",
       "      <td>0.417158</td>\n",
       "    </tr>\n",
       "    <tr>\n",
       "      <th>pd_isotonator</th>\n",
       "      <td>0.114971</td>\n",
       "      <td>0.741982</td>\n",
       "      <td>0.382790</td>\n",
       "    </tr>\n",
       "  </tbody>\n",
       "</table>\n",
       "</div>"
      ],
      "text/plain": [
       "                           MSE       AUC  log_loss\n",
       "pd                    0.120079  0.742490  0.390851\n",
       "logistic_calibration  0.115102  0.742490  0.377082\n",
       "pd_linear             0.115397  0.742490  0.417158\n",
       "pd_isotonator         0.114971  0.741982  0.382790"
      ]
     },
     "execution_count": 88,
     "metadata": {},
     "output_type": "execute_result"
    }
   ],
   "source": [
    "# <вставить код> для тестовой выборки\n",
    "predict = isotonator.predict(df_test['pd'])\n",
    "add_metrics(metrics_test, df_test['default_flg'], predict, 'pd_isotonator')\n",
    "metrics_test"
   ]
  },
  {
   "cell_type": "markdown",
   "metadata": {},
   "source": [
    "# Калибровка по отдельным группам\n",
    "\n",
    "В выборке присутствует поле `category_feature`. Попробуем построить модель с использованием двух признаков: категории и `logit`."
   ]
  },
  {
   "cell_type": "code",
   "execution_count": 89,
   "metadata": {},
   "outputs": [
    {
     "name": "stdout",
     "output_type": "stream",
     "text": [
      "Optimization terminated successfully.\n",
      "         Current function value: 0.374245\n",
      "         Iterations 7\n"
     ]
    },
    {
     "data": {
      "text/html": [
       "<table class=\"simpletable\">\n",
       "<tr>\n",
       "        <td>Model:</td>              <td>Logit</td>      <td>Pseudo R-squared:</td>    <td>0.132</td>  \n",
       "</tr>\n",
       "<tr>\n",
       "  <td>Dependent Variable:</td>    <td>default_flg</td>         <td>AIC:</td>        <td>22466.7136</td>\n",
       "</tr>\n",
       "<tr>\n",
       "         <td>Date:</td>        <td>2018-03-06 20:12</td>       <td>BIC:</td>        <td>22516.5673</td>\n",
       "</tr>\n",
       "<tr>\n",
       "   <td>No. Observations:</td>        <td>30000</td>       <td>Log-Likelihood:</td>    <td>-11227.</td> \n",
       "</tr>\n",
       "<tr>\n",
       "       <td>Df Model:</td>              <td>5</td>            <td>LL-Null:</td>        <td>-12940.</td> \n",
       "</tr>\n",
       "<tr>\n",
       "     <td>Df Residuals:</td>          <td>29994</td>        <td>LLR p-value:</td>      <td>0.0000</td>  \n",
       "</tr>\n",
       "<tr>\n",
       "      <td>Converged:</td>           <td>1.0000</td>           <td>Scale:</td>         <td>1.0000</td>  \n",
       "</tr>\n",
       "<tr>\n",
       "    <td>No. Iterations:</td>        <td>7.0000</td>              <td></td>               <td></td>     \n",
       "</tr>\n",
       "</table>\n",
       "<table class=\"simpletable\">\n",
       "<tr>\n",
       "            <td></td>             <th>Coef.</th>  <th>Std.Err.</th>    <th>z</th>     <th>P>|z|</th> <th>[0.025</th>  <th>0.975]</th> \n",
       "</tr>\n",
       "<tr>\n",
       "  <th>Intercept</th>             <td>2.0894</td>   <td>0.0798</td>  <td>26.1904</td> <td>0.0000</td> <td>1.9330</td>  <td>2.2458</td> \n",
       "</tr>\n",
       "<tr>\n",
       "  <th>category_feature[T.B]</th> <td>-0.5363</td>  <td>0.0636</td>  <td>-8.4270</td> <td>0.0000</td> <td>-0.6610</td> <td>-0.4116</td>\n",
       "</tr>\n",
       "<tr>\n",
       "  <th>category_feature[T.C]</th> <td>0.1578</td>   <td>0.0528</td>  <td>2.9892</td>  <td>0.0028</td> <td>0.0543</td>  <td>0.2613</td> \n",
       "</tr>\n",
       "<tr>\n",
       "  <th>category_feature[T.D]</th> <td>-0.1388</td>  <td>0.0644</td>  <td>-2.1576</td> <td>0.0310</td> <td>-0.2650</td> <td>-0.0127</td>\n",
       "</tr>\n",
       "<tr>\n",
       "  <th>category_feature[T.E]</th> <td>-0.0732</td>  <td>0.0534</td>  <td>-1.3710</td> <td>0.1704</td> <td>-0.1780</td> <td>0.0315</td> \n",
       "</tr>\n",
       "<tr>\n",
       "  <th>logit</th>                 <td>2.0089</td>   <td>0.0390</td>  <td>51.5464</td> <td>0.0000</td> <td>1.9325</td>  <td>2.0852</td> \n",
       "</tr>\n",
       "</table>"
      ],
      "text/plain": [
       "<class 'statsmodels.iolib.summary2.Summary'>\n",
       "\"\"\"\n",
       "                           Results: Logit\n",
       "=====================================================================\n",
       "Model:                Logit             Pseudo R-squared:  0.132     \n",
       "Dependent Variable:   default_flg       AIC:               22466.7136\n",
       "Date:                 2018-03-06 20:12  BIC:               22516.5673\n",
       "No. Observations:     30000             Log-Likelihood:    -11227.   \n",
       "Df Model:             5                 LL-Null:           -12940.   \n",
       "Df Residuals:         29994             LLR p-value:       0.0000    \n",
       "Converged:            1.0000            Scale:             1.0000    \n",
       "No. Iterations:       7.0000                                         \n",
       "---------------------------------------------------------------------\n",
       "                       Coef.  Std.Err.    z    P>|z|   [0.025  0.975]\n",
       "---------------------------------------------------------------------\n",
       "Intercept              2.0894   0.0798 26.1904 0.0000  1.9330  2.2458\n",
       "category_feature[T.B] -0.5363   0.0636 -8.4270 0.0000 -0.6610 -0.4116\n",
       "category_feature[T.C]  0.1578   0.0528  2.9892 0.0028  0.0543  0.2613\n",
       "category_feature[T.D] -0.1388   0.0644 -2.1576 0.0310 -0.2650 -0.0127\n",
       "category_feature[T.E] -0.0732   0.0534 -1.3710 0.1704 -0.1780  0.0315\n",
       "logit                  2.0089   0.0390 51.5464 0.0000  1.9325  2.0852\n",
       "=====================================================================\n",
       "\n",
       "\"\"\""
      ]
     },
     "execution_count": 89,
     "metadata": {},
     "output_type": "execute_result"
    }
   ],
   "source": [
    "import statsmodels.formula.api as smf\n",
    "\n",
    "log_reg = smf.logit('default_flg ~ category_feature + logit', data=df).fit()\n",
    "log_reg.summary2()"
   ]
  },
  {
   "cell_type": "code",
   "execution_count": 90,
   "metadata": {},
   "outputs": [
    {
     "data": {
      "text/html": [
       "<div>\n",
       "<style scoped>\n",
       "    .dataframe tbody tr th:only-of-type {\n",
       "        vertical-align: middle;\n",
       "    }\n",
       "\n",
       "    .dataframe tbody tr th {\n",
       "        vertical-align: top;\n",
       "    }\n",
       "\n",
       "    .dataframe thead th {\n",
       "        text-align: right;\n",
       "    }\n",
       "</style>\n",
       "<table border=\"1\" class=\"dataframe\">\n",
       "  <thead>\n",
       "    <tr style=\"text-align: right;\">\n",
       "      <th></th>\n",
       "      <th>MSE</th>\n",
       "      <th>AUC</th>\n",
       "      <th>log_loss</th>\n",
       "    </tr>\n",
       "  </thead>\n",
       "  <tbody>\n",
       "    <tr>\n",
       "      <th>pd</th>\n",
       "      <td>0.121001</td>\n",
       "      <td>0.746103</td>\n",
       "      <td>0.392546</td>\n",
       "    </tr>\n",
       "    <tr>\n",
       "      <th>logistic_calibration</th>\n",
       "      <td>0.115498</td>\n",
       "      <td>0.746103</td>\n",
       "      <td>0.376995</td>\n",
       "    </tr>\n",
       "    <tr>\n",
       "      <th>pd_linear</th>\n",
       "      <td>0.115812</td>\n",
       "      <td>0.746103</td>\n",
       "      <td>0.397966</td>\n",
       "    </tr>\n",
       "    <tr>\n",
       "      <th>pd_isotonator</th>\n",
       "      <td>0.115050</td>\n",
       "      <td>0.747632</td>\n",
       "      <td>0.375388</td>\n",
       "    </tr>\n",
       "    <tr>\n",
       "      <th>category</th>\n",
       "      <td>0.114669</td>\n",
       "      <td>0.752288</td>\n",
       "      <td>0.374245</td>\n",
       "    </tr>\n",
       "  </tbody>\n",
       "</table>\n",
       "</div>"
      ],
      "text/plain": [
       "                           MSE       AUC  log_loss\n",
       "pd                    0.121001  0.746103  0.392546\n",
       "logistic_calibration  0.115498  0.746103  0.376995\n",
       "pd_linear             0.115812  0.746103  0.397966\n",
       "pd_isotonator         0.115050  0.747632  0.375388\n",
       "category              0.114669  0.752288  0.374245"
      ]
     },
     "execution_count": 90,
     "metadata": {},
     "output_type": "execute_result"
    }
   ],
   "source": [
    "add_metrics(metrics, df['default_flg'], log_reg.predict(df), 'category')\n",
    "metrics"
   ]
  },
  {
   "cell_type": "code",
   "execution_count": 91,
   "metadata": {},
   "outputs": [
    {
     "data": {
      "text/html": [
       "<div>\n",
       "<style scoped>\n",
       "    .dataframe tbody tr th:only-of-type {\n",
       "        vertical-align: middle;\n",
       "    }\n",
       "\n",
       "    .dataframe tbody tr th {\n",
       "        vertical-align: top;\n",
       "    }\n",
       "\n",
       "    .dataframe thead th {\n",
       "        text-align: right;\n",
       "    }\n",
       "</style>\n",
       "<table border=\"1\" class=\"dataframe\">\n",
       "  <thead>\n",
       "    <tr style=\"text-align: right;\">\n",
       "      <th></th>\n",
       "      <th>MSE</th>\n",
       "      <th>AUC</th>\n",
       "      <th>log_loss</th>\n",
       "    </tr>\n",
       "  </thead>\n",
       "  <tbody>\n",
       "    <tr>\n",
       "      <th>pd</th>\n",
       "      <td>0.120079</td>\n",
       "      <td>0.742490</td>\n",
       "      <td>0.390851</td>\n",
       "    </tr>\n",
       "    <tr>\n",
       "      <th>logistic_calibration</th>\n",
       "      <td>0.115102</td>\n",
       "      <td>0.742490</td>\n",
       "      <td>0.377082</td>\n",
       "    </tr>\n",
       "    <tr>\n",
       "      <th>pd_linear</th>\n",
       "      <td>0.115397</td>\n",
       "      <td>0.742490</td>\n",
       "      <td>0.417158</td>\n",
       "    </tr>\n",
       "    <tr>\n",
       "      <th>pd_isotonator</th>\n",
       "      <td>0.114971</td>\n",
       "      <td>0.741982</td>\n",
       "      <td>0.382790</td>\n",
       "    </tr>\n",
       "    <tr>\n",
       "      <th>category</th>\n",
       "      <td>0.114312</td>\n",
       "      <td>0.749230</td>\n",
       "      <td>0.374144</td>\n",
       "    </tr>\n",
       "  </tbody>\n",
       "</table>\n",
       "</div>"
      ],
      "text/plain": [
       "                           MSE       AUC  log_loss\n",
       "pd                    0.120079  0.742490  0.390851\n",
       "logistic_calibration  0.115102  0.742490  0.377082\n",
       "pd_linear             0.115397  0.742490  0.417158\n",
       "pd_isotonator         0.114971  0.741982  0.382790\n",
       "category              0.114312  0.749230  0.374144"
      ]
     },
     "execution_count": 91,
     "metadata": {},
     "output_type": "execute_result"
    }
   ],
   "source": [
    "add_metrics(metrics_test, df_test['default_flg'], log_reg.predict(df_test), 'category')\n",
    "metrics_test"
   ]
  },
  {
   "cell_type": "markdown",
   "metadata": {},
   "source": [
    "Теперь возьмем только статистически значимые признаки"
   ]
  },
  {
   "cell_type": "code",
   "execution_count": 99,
   "metadata": {},
   "outputs": [
    {
     "name": "stdout",
     "output_type": "stream",
     "text": [
      "Optimization terminated successfully.\n",
      "         Current function value: 0.374276\n",
      "         Iterations 7\n"
     ]
    },
    {
     "data": {
      "text/html": [
       "<table class=\"simpletable\">\n",
       "<tr>\n",
       "        <td>Model:</td>              <td>Logit</td>      <td>Pseudo R-squared:</td>    <td>0.132</td>  \n",
       "</tr>\n",
       "<tr>\n",
       "  <td>Dependent Variable:</td>    <td>default_flg</td>         <td>AIC:</td>        <td>22466.5864</td>\n",
       "</tr>\n",
       "<tr>\n",
       "         <td>Date:</td>        <td>2018-03-06 20:22</td>       <td>BIC:</td>        <td>22508.1311</td>\n",
       "</tr>\n",
       "<tr>\n",
       "   <td>No. Observations:</td>        <td>30000</td>       <td>Log-Likelihood:</td>    <td>-11228.</td> \n",
       "</tr>\n",
       "<tr>\n",
       "       <td>Df Model:</td>              <td>4</td>            <td>LL-Null:</td>        <td>-12940.</td> \n",
       "</tr>\n",
       "<tr>\n",
       "     <td>Df Residuals:</td>          <td>29995</td>        <td>LLR p-value:</td>      <td>0.0000</td>  \n",
       "</tr>\n",
       "<tr>\n",
       "      <td>Converged:</td>           <td>1.0000</td>           <td>Scale:</td>         <td>1.0000</td>  \n",
       "</tr>\n",
       "<tr>\n",
       "    <td>No. Iterations:</td>        <td>7.0000</td>              <td></td>               <td></td>     \n",
       "</tr>\n",
       "</table>\n",
       "<table class=\"simpletable\">\n",
       "<tr>\n",
       "            <td></td>             <th>Coef.</th>  <th>Std.Err.</th>    <th>z</th>     <th>P>|z|</th> <th>[0.025</th>  <th>0.975]</th> \n",
       "</tr>\n",
       "<tr>\n",
       "  <th>Intercept</th>             <td>2.0419</td>   <td>0.0719</td>  <td>28.4033</td> <td>0.0000</td> <td>1.9010</td>  <td>2.1828</td> \n",
       "</tr>\n",
       "<tr>\n",
       "  <th>category_feature[T.B]</th> <td>-0.4891</td>  <td>0.0537</td>  <td>-9.1093</td> <td>0.0000</td> <td>-0.5944</td> <td>-0.3839</td>\n",
       "</tr>\n",
       "<tr>\n",
       "  <th>category_feature[T.C]</th> <td>0.2049</td>   <td>0.0403</td>  <td>5.0911</td>  <td>0.0000</td> <td>0.1260</td>  <td>0.2838</td> \n",
       "</tr>\n",
       "<tr>\n",
       "  <th>category_feature[T.D]</th> <td>-0.0917</td>  <td>0.0545</td>  <td>-1.6811</td> <td>0.0927</td> <td>-0.1986</td> <td>0.0152</td> \n",
       "</tr>\n",
       "<tr>\n",
       "  <th>logit</th>                 <td>2.0087</td>   <td>0.0390</td>  <td>51.5468</td> <td>0.0000</td> <td>1.9323</td>  <td>2.0851</td> \n",
       "</tr>\n",
       "</table>"
      ],
      "text/plain": [
       "<class 'statsmodels.iolib.summary2.Summary'>\n",
       "\"\"\"\n",
       "                           Results: Logit\n",
       "=====================================================================\n",
       "Model:                Logit             Pseudo R-squared:  0.132     \n",
       "Dependent Variable:   default_flg       AIC:               22466.5864\n",
       "Date:                 2018-03-06 20:22  BIC:               22508.1311\n",
       "No. Observations:     30000             Log-Likelihood:    -11228.   \n",
       "Df Model:             4                 LL-Null:           -12940.   \n",
       "Df Residuals:         29995             LLR p-value:       0.0000    \n",
       "Converged:            1.0000            Scale:             1.0000    \n",
       "No. Iterations:       7.0000                                         \n",
       "---------------------------------------------------------------------\n",
       "                       Coef.  Std.Err.    z    P>|z|   [0.025  0.975]\n",
       "---------------------------------------------------------------------\n",
       "Intercept              2.0419   0.0719 28.4033 0.0000  1.9010  2.1828\n",
       "category_feature[T.B] -0.4891   0.0537 -9.1093 0.0000 -0.5944 -0.3839\n",
       "category_feature[T.C]  0.2049   0.0403  5.0911 0.0000  0.1260  0.2838\n",
       "category_feature[T.D] -0.0917   0.0545 -1.6811 0.0927 -0.1986  0.0152\n",
       "logit                  2.0087   0.0390 51.5468 0.0000  1.9323  2.0851\n",
       "=====================================================================\n",
       "\n",
       "\"\"\""
      ]
     },
     "execution_count": 99,
     "metadata": {},
     "output_type": "execute_result"
    }
   ],
   "source": [
    "import statsmodels.api as sm\n",
    "from patsy import dmatrices\n",
    "\n",
    "\n",
    "y, X = dmatrices('default_flg ~ category_feature + logit', data=df, return_type='dataframe')\n",
    "X = X.loc[:, log_reg.pvalues < 0.05]\n",
    "log_reg_drop = sm.Logit(y, X).fit()\n",
    "\n",
    "log_reg_drop.summary2()"
   ]
  },
  {
   "cell_type": "code",
   "execution_count": 79,
   "metadata": {},
   "outputs": [
    {
     "data": {
      "text/html": [
       "<div>\n",
       "<style scoped>\n",
       "    .dataframe tbody tr th:only-of-type {\n",
       "        vertical-align: middle;\n",
       "    }\n",
       "\n",
       "    .dataframe tbody tr th {\n",
       "        vertical-align: top;\n",
       "    }\n",
       "\n",
       "    .dataframe thead th {\n",
       "        text-align: right;\n",
       "    }\n",
       "</style>\n",
       "<table border=\"1\" class=\"dataframe\">\n",
       "  <thead>\n",
       "    <tr style=\"text-align: right;\">\n",
       "      <th></th>\n",
       "      <th>MSE</th>\n",
       "      <th>AUC</th>\n",
       "      <th>log_loss</th>\n",
       "    </tr>\n",
       "  </thead>\n",
       "  <tbody>\n",
       "    <tr>\n",
       "      <th>pd</th>\n",
       "      <td>0.121001</td>\n",
       "      <td>0.746103</td>\n",
       "      <td>0.392546</td>\n",
       "    </tr>\n",
       "    <tr>\n",
       "      <th>logistic_calibration</th>\n",
       "      <td>0.115498</td>\n",
       "      <td>0.746103</td>\n",
       "      <td>0.376995</td>\n",
       "    </tr>\n",
       "    <tr>\n",
       "      <th>pd_linear</th>\n",
       "      <td>0.115812</td>\n",
       "      <td>0.746103</td>\n",
       "      <td>0.397966</td>\n",
       "    </tr>\n",
       "    <tr>\n",
       "      <th>pd_isotonator</th>\n",
       "      <td>0.115050</td>\n",
       "      <td>0.747632</td>\n",
       "      <td>0.375388</td>\n",
       "    </tr>\n",
       "    <tr>\n",
       "      <th>category</th>\n",
       "      <td>0.114669</td>\n",
       "      <td>0.752288</td>\n",
       "      <td>0.374245</td>\n",
       "    </tr>\n",
       "    <tr>\n",
       "      <th>category_part</th>\n",
       "      <td>0.114672</td>\n",
       "      <td>0.752201</td>\n",
       "      <td>0.374276</td>\n",
       "    </tr>\n",
       "  </tbody>\n",
       "</table>\n",
       "</div>"
      ],
      "text/plain": [
       "                           MSE       AUC  log_loss\n",
       "pd                    0.121001  0.746103  0.392546\n",
       "logistic_calibration  0.115498  0.746103  0.376995\n",
       "pd_linear             0.115812  0.746103  0.397966\n",
       "pd_isotonator         0.115050  0.747632  0.375388\n",
       "category              0.114669  0.752288  0.374245\n",
       "category_part         0.114672  0.752201  0.374276"
      ]
     },
     "execution_count": 79,
     "metadata": {},
     "output_type": "execute_result"
    }
   ],
   "source": [
    "add_metrics(metrics, df['default_flg'], log_reg_drop.predict(X), 'category_part')\n",
    "metrics"
   ]
  },
  {
   "cell_type": "markdown",
   "metadata": {},
   "source": [
    "**Задание. посчитать качество на тестовой выборке**"
   ]
  },
  {
   "cell_type": "code",
   "execution_count": 100,
   "metadata": {},
   "outputs": [
    {
     "data": {
      "text/html": [
       "<div>\n",
       "<style scoped>\n",
       "    .dataframe tbody tr th:only-of-type {\n",
       "        vertical-align: middle;\n",
       "    }\n",
       "\n",
       "    .dataframe tbody tr th {\n",
       "        vertical-align: top;\n",
       "    }\n",
       "\n",
       "    .dataframe thead th {\n",
       "        text-align: right;\n",
       "    }\n",
       "</style>\n",
       "<table border=\"1\" class=\"dataframe\">\n",
       "  <thead>\n",
       "    <tr style=\"text-align: right;\">\n",
       "      <th></th>\n",
       "      <th>MSE</th>\n",
       "      <th>AUC</th>\n",
       "      <th>log_loss</th>\n",
       "    </tr>\n",
       "  </thead>\n",
       "  <tbody>\n",
       "    <tr>\n",
       "      <th>pd</th>\n",
       "      <td>0.120079</td>\n",
       "      <td>0.742490</td>\n",
       "      <td>0.390851</td>\n",
       "    </tr>\n",
       "    <tr>\n",
       "      <th>logistic_calibration</th>\n",
       "      <td>0.115102</td>\n",
       "      <td>0.742490</td>\n",
       "      <td>0.377082</td>\n",
       "    </tr>\n",
       "    <tr>\n",
       "      <th>pd_linear</th>\n",
       "      <td>0.115397</td>\n",
       "      <td>0.742490</td>\n",
       "      <td>0.417158</td>\n",
       "    </tr>\n",
       "    <tr>\n",
       "      <th>pd_isotonator</th>\n",
       "      <td>0.114971</td>\n",
       "      <td>0.741982</td>\n",
       "      <td>0.382790</td>\n",
       "    </tr>\n",
       "    <tr>\n",
       "      <th>category</th>\n",
       "      <td>0.114312</td>\n",
       "      <td>0.749230</td>\n",
       "      <td>0.374144</td>\n",
       "    </tr>\n",
       "    <tr>\n",
       "      <th>category_part</th>\n",
       "      <td>0.114299</td>\n",
       "      <td>0.749378</td>\n",
       "      <td>0.374101</td>\n",
       "    </tr>\n",
       "  </tbody>\n",
       "</table>\n",
       "</div>"
      ],
      "text/plain": [
       "                           MSE       AUC  log_loss\n",
       "pd                    0.120079  0.742490  0.390851\n",
       "logistic_calibration  0.115102  0.742490  0.377082\n",
       "pd_linear             0.115397  0.742490  0.417158\n",
       "pd_isotonator         0.114971  0.741982  0.382790\n",
       "category              0.114312  0.749230  0.374144\n",
       "category_part         0.114299  0.749378  0.374101"
      ]
     },
     "execution_count": 100,
     "metadata": {},
     "output_type": "execute_result"
    }
   ],
   "source": [
    "# <вставить код>\n",
    "y, X = dmatrices('default_flg ~ category_feature + logit', data=df_test, return_type='dataframe')\n",
    "X = X.loc[:, log_reg.pvalues < 0.05]\n",
    "add_metrics(metrics_test, df_test['default_flg'], log_reg_drop.predict(X), 'category_part')\n",
    "metrics_test"
   ]
  },
  {
   "cell_type": "markdown",
   "metadata": {},
   "source": [
    "**Задание. Построить модель с формулой `default_flg ~ category_feature * logit`**"
   ]
  },
  {
   "cell_type": "code",
   "execution_count": 97,
   "metadata": {},
   "outputs": [
    {
     "name": "stdout",
     "output_type": "stream",
     "text": [
      "Optimization terminated successfully.\n",
      "         Current function value: 0.374206\n",
      "         Iterations 7\n"
     ]
    },
    {
     "data": {
      "text/html": [
       "<table class=\"simpletable\">\n",
       "<tr>\n",
       "        <td>Model:</td>              <td>Logit</td>      <td>Pseudo R-squared:</td>    <td>0.132</td>  \n",
       "</tr>\n",
       "<tr>\n",
       "  <td>Dependent Variable:</td>    <td>default_flg</td>         <td>AIC:</td>        <td>22472.3859</td>\n",
       "</tr>\n",
       "<tr>\n",
       "         <td>Date:</td>        <td>2018-03-06 20:21</td>       <td>BIC:</td>        <td>22555.4754</td>\n",
       "</tr>\n",
       "<tr>\n",
       "   <td>No. Observations:</td>        <td>30000</td>       <td>Log-Likelihood:</td>    <td>-11226.</td> \n",
       "</tr>\n",
       "<tr>\n",
       "       <td>Df Model:</td>              <td>9</td>            <td>LL-Null:</td>        <td>-12940.</td> \n",
       "</tr>\n",
       "<tr>\n",
       "     <td>Df Residuals:</td>          <td>29990</td>        <td>LLR p-value:</td>      <td>0.0000</td>  \n",
       "</tr>\n",
       "<tr>\n",
       "      <td>Converged:</td>           <td>1.0000</td>           <td>Scale:</td>         <td>1.0000</td>  \n",
       "</tr>\n",
       "<tr>\n",
       "    <td>No. Iterations:</td>        <td>7.0000</td>              <td></td>               <td></td>     \n",
       "</tr>\n",
       "</table>\n",
       "<table class=\"simpletable\">\n",
       "<tr>\n",
       "               <td></td>                <th>Coef.</th>  <th>Std.Err.</th>    <th>z</th>     <th>P>|z|</th> <th>[0.025</th>  <th>0.975]</th>\n",
       "</tr>\n",
       "<tr>\n",
       "  <th>Intercept</th>                   <td>1.9651</td>   <td>0.1745</td>  <td>11.2645</td> <td>0.0000</td> <td>1.6232</td>  <td>2.3070</td>\n",
       "</tr>\n",
       "<tr>\n",
       "  <th>category_feature[T.B]</th>       <td>-0.3616</td>  <td>0.2559</td>  <td>-1.4130</td> <td>0.1577</td> <td>-0.8632</td> <td>0.1400</td>\n",
       "</tr>\n",
       "<tr>\n",
       "  <th>category_feature[T.C]</th>       <td>0.3260</td>   <td>0.2169</td>  <td>1.5032</td>  <td>0.1328</td> <td>-0.0990</td> <td>0.7510</td>\n",
       "</tr>\n",
       "<tr>\n",
       "  <th>category_feature[T.D]</th>       <td>-0.2071</td>  <td>0.2577</td>  <td>-0.8037</td> <td>0.4216</td> <td>-0.7123</td> <td>0.2980</td>\n",
       "</tr>\n",
       "<tr>\n",
       "  <th>category_feature[T.E]</th>       <td>0.1398</td>   <td>0.2177</td>  <td>0.6422</td>  <td>0.5207</td> <td>-0.2869</td> <td>0.5665</td>\n",
       "</tr>\n",
       "<tr>\n",
       "  <th>logit</th>                       <td>1.9371</td>   <td>0.0975</td>  <td>19.8683</td> <td>0.0000</td> <td>1.7460</td>  <td>2.1282</td>\n",
       "</tr>\n",
       "<tr>\n",
       "  <th>category_feature[T.B]:logit</th> <td>0.1015</td>   <td>0.1448</td>  <td>0.7011</td>  <td>0.4832</td> <td>-0.1822</td> <td>0.3852</td>\n",
       "</tr>\n",
       "<tr>\n",
       "  <th>category_feature[T.C]:logit</th> <td>0.0970</td>   <td>0.1212</td>  <td>0.8005</td>  <td>0.4234</td> <td>-0.1405</td> <td>0.3346</td>\n",
       "</tr>\n",
       "<tr>\n",
       "  <th>category_feature[T.D]:logit</th> <td>-0.0403</td>  <td>0.1444</td>  <td>-0.2791</td> <td>0.7801</td> <td>-0.3233</td> <td>0.2427</td>\n",
       "</tr>\n",
       "<tr>\n",
       "  <th>category_feature[T.E]:logit</th> <td>0.1234</td>   <td>0.1221</td>  <td>1.0106</td>  <td>0.3122</td> <td>-0.1159</td> <td>0.3628</td>\n",
       "</tr>\n",
       "</table>"
      ],
      "text/plain": [
       "<class 'statsmodels.iolib.summary2.Summary'>\n",
       "\"\"\"\n",
       "                              Results: Logit\n",
       "==========================================================================\n",
       "Model:                 Logit               Pseudo R-squared:    0.132     \n",
       "Dependent Variable:    default_flg         AIC:                 22472.3859\n",
       "Date:                  2018-03-06 20:21    BIC:                 22555.4754\n",
       "No. Observations:      30000               Log-Likelihood:      -11226.   \n",
       "Df Model:              9                   LL-Null:             -12940.   \n",
       "Df Residuals:          29990               LLR p-value:         0.0000    \n",
       "Converged:             1.0000              Scale:               1.0000    \n",
       "No. Iterations:        7.0000                                             \n",
       "--------------------------------------------------------------------------\n",
       "                             Coef.  Std.Err.    z    P>|z|   [0.025 0.975]\n",
       "--------------------------------------------------------------------------\n",
       "Intercept                    1.9651   0.1745 11.2645 0.0000  1.6232 2.3070\n",
       "category_feature[T.B]       -0.3616   0.2559 -1.4130 0.1577 -0.8632 0.1400\n",
       "category_feature[T.C]        0.3260   0.2169  1.5032 0.1328 -0.0990 0.7510\n",
       "category_feature[T.D]       -0.2071   0.2577 -0.8037 0.4216 -0.7123 0.2980\n",
       "category_feature[T.E]        0.1398   0.2177  0.6422 0.5207 -0.2869 0.5665\n",
       "logit                        1.9371   0.0975 19.8683 0.0000  1.7460 2.1282\n",
       "category_feature[T.B]:logit  0.1015   0.1448  0.7011 0.4832 -0.1822 0.3852\n",
       "category_feature[T.C]:logit  0.0970   0.1212  0.8005 0.4234 -0.1405 0.3346\n",
       "category_feature[T.D]:logit -0.0403   0.1444 -0.2791 0.7801 -0.3233 0.2427\n",
       "category_feature[T.E]:logit  0.1234   0.1221  1.0106 0.3122 -0.1159 0.3628\n",
       "==========================================================================\n",
       "\n",
       "\"\"\""
      ]
     },
     "execution_count": 97,
     "metadata": {},
     "output_type": "execute_result"
    }
   ],
   "source": [
    "# <вставить код>\n",
    "import statsmodels.api as sm\n",
    "from patsy import dmatrices\n",
    "\n",
    "\n",
    "y, X = dmatrices('default_flg ~ category_feature * logit', data=df, return_type='dataframe')\n",
    "#X = X.loc[:, log_reg.pvalues < 0.05]\n",
    "log_reg_drop = sm.Logit(y, X).fit()\n",
    "\n",
    "log_reg_drop.summary2()"
   ]
  },
  {
   "cell_type": "markdown",
   "metadata": {},
   "source": [
    "Сравните метрики с предыдущими моделями. Объясните результаты."
   ]
  },
  {
   "cell_type": "markdown",
   "metadata": {},
   "source": [
    "# Ссылки\n",
    "* [10 Minutes to pandas](http://pandas.pydata.org/pandas-docs/stable/10min.html)\n",
    "* [Python Data Science Handbook](https://github.com/jakevdp/PythonDataScienceHandbook) - книга на github по анализу данных в python.\n",
    "* [scikit-learn](http://scikit-learn.org)\n",
    "* [statsmodels](http://www.statsmodels.org)"
   ]
  }
 ],
 "metadata": {
  "kernelspec": {
   "display_name": "Python 3",
   "language": "python",
   "name": "python3"
  },
  "language_info": {
   "codemirror_mode": {
    "name": "ipython",
    "version": 3
   },
   "file_extension": ".py",
   "mimetype": "text/x-python",
   "name": "python",
   "nbconvert_exporter": "python",
   "pygments_lexer": "ipython3",
   "version": "3.5.2"
  }
 },
 "nbformat": 4,
 "nbformat_minor": 2
}
